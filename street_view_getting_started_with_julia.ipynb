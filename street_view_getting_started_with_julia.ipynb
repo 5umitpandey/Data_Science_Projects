{
  "metadata": {
    "kernelspec": {
      "language": "python",
      "display_name": "Python 3",
      "name": "python3"
    },
    "language_info": {
      "name": "python",
      "version": "3.7.12",
      "mimetype": "text/x-python",
      "codemirror_mode": {
        "name": "ipython",
        "version": 3
      },
      "pygments_lexer": "ipython3",
      "nbconvert_exporter": "python",
      "file_extension": ".py"
    },
    "colab": {
      "provenance": []
    }
  },
  "nbformat_minor": 0,
  "nbformat": 4,
  "cells": [
    {
      "cell_type": "markdown",
      "source": [
        "Competetion: https://www.kaggle.com/competitions/street-view-getting-started-with-julia\n",
        "\n",
        "Data: https://www.kaggle.com/competitions/street-view-getting-started-with-julia/data"
      ],
      "metadata": {
        "id": "C1XruYRf6__X"
      }
    },
    {
      "cell_type": "code",
      "source": [
        "import numpy as np\n",
        "import pandas as pd\n",
        "import tensorflow as tf\n",
        "import matplotlib.pyplot as plt\n",
        "import seaborn as sns\n",
        "import zipfile\n",
        "import cv2\n",
        "\n",
        "from skimage import io\n",
        "from sklearn.model_selection import train_test_split\n",
        "from tensorflow import keras\n",
        "from tensorflow.keras import datasets, layers, models\n",
        "from keras.utils.np_utils import to_categorical\n",
        "from keras.models import Sequential\n",
        "from keras.layers import Conv2D, MaxPooling2D, Activation, Dropout, Flatten, BatchNormalization, AveragePooling2D\n",
        "from keras.preprocessing.image import ImageDataGenerator\n",
        "from matplotlib import image\n",
        "\n",
        "import os\n",
        "for dirname, _, filenames in os.walk('/kaggle/input'):\n",
        "    for filename in filenames:\n",
        "        print(os.path.join(dirname, filename))\n",
        "\n",
        "print(\"Completed\")"
      ],
      "metadata": {
        "_uuid": "8f2839f25d086af736a60e9eeb907d3b93b6e0e5",
        "_cell_guid": "b1076dfc-b9ad-4769-8c92-a6c4dae69d19",
        "execution": {
          "iopub.status.busy": "2025-01-02T16:12:27.254816Z",
          "iopub.execute_input": "2025-01-02T16:12:27.255088Z",
          "iopub.status.idle": "2025-01-02T16:12:33.110674Z",
          "shell.execute_reply.started": "2025-01-02T16:12:27.255028Z",
          "shell.execute_reply": "2025-01-02T16:12:33.109588Z"
        },
        "trusted": true,
        "id": "wcSC7THS65Lh",
        "outputId": "bbd8ca2f-0bff-42ef-822c-d2998a2b1d8e"
      },
      "outputs": [
        {
          "name": "stdout",
          "text": "/kaggle/input/street-view-getting-started-with-julia/trainLabels.csv\n/kaggle/input/street-view-getting-started-with-julia/train.zip\n/kaggle/input/street-view-getting-started-with-julia/sampleSubmission.csv\n/kaggle/input/street-view-getting-started-with-julia/resizeData.py\n/kaggle/input/street-view-getting-started-with-julia/trainResized.zip\n/kaggle/input/street-view-getting-started-with-julia/test.zip\n/kaggle/input/street-view-getting-started-with-julia/testResized.zip\n/kaggle/input/street-view-getting-started-with-julia/source-code-files.zip\nCompleted\n",
          "output_type": "stream"
        }
      ],
      "execution_count": null
    },
    {
      "cell_type": "markdown",
      "source": [
        "### **EN** Set rute into constants\n",
        "### **ES** Se ponen las rutas de los archivos en constantes"
      ],
      "metadata": {
        "id": "5g4-mcV165Lm"
      }
    },
    {
      "cell_type": "code",
      "source": [
        "TEST_LABELS_RUTE = '/kaggle/input/street-view-getting-started-with-julia/trainLabels.csv'\n",
        "TRAIN_IMG_DIR = '/kaggle/output/street-view-getting-started-with-julia/trainResized/'\n",
        "TEST_IMG_DIR = '/kaggle/output/street-view-getting-started-with-julia/testResized/'\n",
        "TRAIN_IMG_ZIP = '/kaggle/input/street-view-getting-started-with-julia/trainResized.zip'\n",
        "TEST_IMG_ZIP = '/kaggle/input/street-view-getting-started-with-julia/testResized.zip'\n",
        "BASE_DIR = '/kaggle/output/street-view-getting-started-with-julia/'"
      ],
      "metadata": {
        "execution": {
          "iopub.status.busy": "2025-01-02T16:12:57.304123Z",
          "iopub.execute_input": "2025-01-02T16:12:57.304783Z",
          "iopub.status.idle": "2025-01-02T16:12:57.309140Z",
          "shell.execute_reply.started": "2025-01-02T16:12:57.304751Z",
          "shell.execute_reply": "2025-01-02T16:12:57.308155Z"
        },
        "trusted": true,
        "id": "0UnuxzBU65Lp"
      },
      "outputs": [],
      "execution_count": null
    },
    {
      "cell_type": "markdown",
      "source": [
        "**EN** Create a function that allows us to extract and create a directory if it doesn't exist\n",
        "**ES** Creamos una función que nos permita extraer datos y crear un directorio en caso de que no exista"
      ],
      "metadata": {
        "id": "033fywbC65Lq"
      }
    },
    {
      "cell_type": "code",
      "source": [
        "def data_ext(Dir, Zip):\n",
        "    if not os.path.exists(Dir):\n",
        "        os.makedirs(Dir)\n",
        "    zip_ref = zipfile.ZipFile(Zip)\n",
        "    zip_ref.extractall(BASE_DIR)\n",
        "    zip_ref.close()"
      ],
      "metadata": {
        "execution": {
          "iopub.status.busy": "2025-01-02T16:13:06.788658Z",
          "iopub.execute_input": "2025-01-02T16:13:06.788996Z",
          "iopub.status.idle": "2025-01-02T16:13:06.794863Z",
          "shell.execute_reply.started": "2025-01-02T16:13:06.788969Z",
          "shell.execute_reply": "2025-01-02T16:13:06.793934Z"
        },
        "trusted": true,
        "id": "zhtJTwy965Lq"
      },
      "outputs": [],
      "execution_count": null
    },
    {
      "cell_type": "markdown",
      "source": [
        "**EN** Function that we use later to see the characteristics of the data such as missing values (NaN), all of features and number, records and columns\n",
        "\n",
        "**ES** Función que usamos más tarde para ver las características de los datos, como valores faltantes (NaN), todas las características y el número, registros y columnas."
      ],
      "metadata": {
        "id": "tRfDQ6lg65Lr"
      }
    },
    {
      "cell_type": "code",
      "source": [
        "def data_description(df):\n",
        "    print(\"Data description\")\n",
        "    print(f\"Total number of records {df.shape[0]}\")\n",
        "    print(f'number of features {df.shape[1]}\\n\\n')\n",
        "    columns = df.columns\n",
        "    data_type = []\n",
        "\n",
        "    # Get the datatype of features\n",
        "    for col in df.columns:\n",
        "        data_type.append(df[col].dtype)\n",
        "\n",
        "    n_uni = df.nunique()\n",
        "    # Number of NaN values\n",
        "    n_miss = df.isna().sum()\n",
        "\n",
        "    names = list(zip(columns, data_type, n_uni, n_miss))\n",
        "    variable_desc = pd.DataFrame(names, columns=[\"Name\",\"Type\",\"Unique levels\",\"Missing\"])\n",
        "    print(variable_desc)"
      ],
      "metadata": {
        "execution": {
          "iopub.status.busy": "2025-01-02T16:13:08.731967Z",
          "iopub.execute_input": "2025-01-02T16:13:08.732330Z",
          "iopub.status.idle": "2025-01-02T16:13:08.738540Z",
          "shell.execute_reply.started": "2025-01-02T16:13:08.732302Z",
          "shell.execute_reply": "2025-01-02T16:13:08.737403Z"
        },
        "trusted": true,
        "id": "Sse4LLss65Ls"
      },
      "outputs": [],
      "execution_count": null
    },
    {
      "cell_type": "markdown",
      "source": [
        "# Import the datasets"
      ],
      "metadata": {
        "id": "s4xb7NB_65Lt"
      }
    },
    {
      "cell_type": "markdown",
      "source": [
        "**EN** We use pandas to import the csv file And .head to see a piece of the data\n",
        "\n",
        "**ES** Usamos pandas para importar el archivo csv Y .head para ver una parte de los datos"
      ],
      "metadata": {
        "id": "qOomZD-465Lt"
      }
    },
    {
      "cell_type": "code",
      "source": [
        "data_ext(TRAIN_IMG_DIR, TRAIN_IMG_ZIP) # Train data\n",
        "data_ext(TEST_IMG_DIR, TEST_IMG_ZIP) # Test data\n",
        "\n",
        "train_data = pd.read_csv(TEST_LABELS_RUTE)"
      ],
      "metadata": {
        "execution": {
          "iopub.status.busy": "2025-01-02T16:13:18.030896Z",
          "iopub.execute_input": "2025-01-02T16:13:18.031605Z",
          "iopub.status.idle": "2025-01-02T16:13:20.133189Z",
          "shell.execute_reply.started": "2025-01-02T16:13:18.031572Z",
          "shell.execute_reply": "2025-01-02T16:13:20.132408Z"
        },
        "trusted": true,
        "id": "1sEu_zpO65Lu"
      },
      "outputs": [],
      "execution_count": null
    },
    {
      "cell_type": "code",
      "source": [
        "train_data.head()"
      ],
      "metadata": {
        "execution": {
          "iopub.status.busy": "2025-01-02T16:13:47.357631Z",
          "iopub.execute_input": "2025-01-02T16:13:47.358507Z",
          "iopub.status.idle": "2025-01-02T16:13:47.377377Z",
          "shell.execute_reply.started": "2025-01-02T16:13:47.358464Z",
          "shell.execute_reply": "2025-01-02T16:13:47.376282Z"
        },
        "trusted": true,
        "id": "hcHW3qkC65Lv",
        "outputId": "5d86b6a3-0068-4f90-db86-3193ada72f3d"
      },
      "outputs": [
        {
          "execution_count": 9,
          "output_type": "execute_result",
          "data": {
            "text/plain": "   ID Class\n0   1     n\n1   2     8\n2   3     T\n3   4     I\n4   5     R",
            "text/html": "<div>\n<style scoped>\n    .dataframe tbody tr th:only-of-type {\n        vertical-align: middle;\n    }\n\n    .dataframe tbody tr th {\n        vertical-align: top;\n    }\n\n    .dataframe thead th {\n        text-align: right;\n    }\n</style>\n<table border=\"1\" class=\"dataframe\">\n  <thead>\n    <tr style=\"text-align: right;\">\n      <th></th>\n      <th>ID</th>\n      <th>Class</th>\n    </tr>\n  </thead>\n  <tbody>\n    <tr>\n      <th>0</th>\n      <td>1</td>\n      <td>n</td>\n    </tr>\n    <tr>\n      <th>1</th>\n      <td>2</td>\n      <td>8</td>\n    </tr>\n    <tr>\n      <th>2</th>\n      <td>3</td>\n      <td>T</td>\n    </tr>\n    <tr>\n      <th>3</th>\n      <td>4</td>\n      <td>I</td>\n    </tr>\n    <tr>\n      <th>4</th>\n      <td>5</td>\n      <td>R</td>\n    </tr>\n  </tbody>\n</table>\n</div>"
          },
          "metadata": {}
        }
      ],
      "execution_count": null
    },
    {
      "cell_type": "markdown",
      "source": [
        "### Data visualization"
      ],
      "metadata": {
        "id": "9OTN28M265Lv"
      }
    },
    {
      "cell_type": "markdown",
      "source": [
        "**EN** Show general data of dataframe\n",
        "**ES** Mostrar datos generales de el dataframe"
      ],
      "metadata": {
        "id": "QZLQLspm65Lw"
      }
    },
    {
      "cell_type": "code",
      "source": [
        "data_description(train_data)"
      ],
      "metadata": {
        "execution": {
          "iopub.status.busy": "2025-01-02T16:13:50.755490Z",
          "iopub.execute_input": "2025-01-02T16:13:50.755839Z",
          "iopub.status.idle": "2025-01-02T16:13:50.770183Z",
          "shell.execute_reply.started": "2025-01-02T16:13:50.755808Z",
          "shell.execute_reply": "2025-01-02T16:13:50.769255Z"
        },
        "trusted": true,
        "id": "jQJCvVW-65Lw",
        "outputId": "7a53a3c2-2d0e-4d82-c071-6c54623ffc06"
      },
      "outputs": [
        {
          "name": "stdout",
          "text": "Data description\nTotal number of records 6283\nnumber of features 2\n\n\n    Name    Type  Unique levels  Missing\n0     ID   int64           6283        0\n1  Class  object             62        0\n",
          "output_type": "stream"
        }
      ],
      "execution_count": null
    },
    {
      "cell_type": "code",
      "source": [
        "train_data['img'] = [TRAIN_IMG_DIR + str(id) + '.Bmp' for id in train_data['ID'].values]"
      ],
      "metadata": {
        "execution": {
          "iopub.status.busy": "2025-01-02T16:13:51.967771Z",
          "iopub.execute_input": "2025-01-02T16:13:51.968084Z",
          "iopub.status.idle": "2025-01-02T16:13:51.977328Z",
          "shell.execute_reply.started": "2025-01-02T16:13:51.968060Z",
          "shell.execute_reply": "2025-01-02T16:13:51.976346Z"
        },
        "trusted": true,
        "id": "gDfflU0i65Lx"
      },
      "outputs": [],
      "execution_count": null
    },
    {
      "cell_type": "code",
      "source": [
        "lab=[]\n",
        "test=[]\n",
        "\n",
        "for i in os.listdir(TEST_IMG_DIR):\n",
        "    test.append(io.imread(TEST_IMG_DIR+i,as_gray=True))\n",
        "    lab.append(i.split('.')[0])"
      ],
      "metadata": {
        "execution": {
          "iopub.status.busy": "2025-01-02T16:13:54.031754Z",
          "iopub.execute_input": "2025-01-02T16:13:54.032123Z",
          "iopub.status.idle": "2025-01-02T16:13:57.124692Z",
          "shell.execute_reply.started": "2025-01-02T16:13:54.032075Z",
          "shell.execute_reply": "2025-01-02T16:13:57.123960Z"
        },
        "trusted": true,
        "id": "zWHcc5Zv65Ly"
      },
      "outputs": [],
      "execution_count": null
    },
    {
      "cell_type": "code",
      "source": [
        "test_img=np.array([cv2.resize(image,(28,28)) for image in test])\n",
        "test_img=test_img[:,:,:,np.newaxis]\n",
        "test_img.shape"
      ],
      "metadata": {
        "execution": {
          "iopub.status.busy": "2025-01-02T16:13:59.266937Z",
          "iopub.execute_input": "2025-01-02T16:13:59.267788Z",
          "iopub.status.idle": "2025-01-02T16:13:59.372108Z",
          "shell.execute_reply.started": "2025-01-02T16:13:59.267755Z",
          "shell.execute_reply": "2025-01-02T16:13:59.371149Z"
        },
        "trusted": true,
        "id": "g6tUoGp765Ly",
        "outputId": "86070743-efeb-4831-bc94-6861ece0663e"
      },
      "outputs": [
        {
          "execution_count": 13,
          "output_type": "execute_result",
          "data": {
            "text/plain": "(6220, 28, 28, 1)"
          },
          "metadata": {}
        }
      ],
      "execution_count": null
    },
    {
      "cell_type": "code",
      "source": [
        "X = train_data.drop(\"Class\", axis = 1)\n",
        "y = train_data[\"Class\"]\n",
        "print(\"Completed\")"
      ],
      "metadata": {
        "execution": {
          "iopub.status.busy": "2025-01-02T16:14:01.030267Z",
          "iopub.execute_input": "2025-01-02T16:14:01.030604Z",
          "iopub.status.idle": "2025-01-02T16:14:01.039175Z",
          "shell.execute_reply.started": "2025-01-02T16:14:01.030579Z",
          "shell.execute_reply": "2025-01-02T16:14:01.038245Z"
        },
        "trusted": true,
        "id": "caCfTpZ465Lz",
        "outputId": "43ed0c2d-9b0a-4dbc-b5b0-3fdae0b0832a"
      },
      "outputs": [
        {
          "name": "stdout",
          "text": "Completed\n",
          "output_type": "stream"
        }
      ],
      "execution_count": null
    },
    {
      "cell_type": "code",
      "source": [
        "label = train_data['Class']\n",
        "unique_labels = list(set(label))\n",
        "\n",
        "label_id = [unique_labels.index(l) for l in label]\n",
        "label_id = np.array(label_id, dtype=np.float32)\n",
        "train_data['label'] = label_id"
      ],
      "metadata": {
        "execution": {
          "iopub.status.busy": "2025-01-02T16:14:03.312809Z",
          "iopub.execute_input": "2025-01-02T16:14:03.313174Z",
          "iopub.status.idle": "2025-01-02T16:14:03.324826Z",
          "shell.execute_reply.started": "2025-01-02T16:14:03.313144Z",
          "shell.execute_reply": "2025-01-02T16:14:03.323921Z"
        },
        "trusted": true,
        "id": "gkAFXeqy65L0"
      },
      "outputs": [],
      "execution_count": null
    },
    {
      "cell_type": "code",
      "source": [
        "train_data.head()"
      ],
      "metadata": {
        "execution": {
          "iopub.status.busy": "2025-01-02T16:14:14.102254Z",
          "iopub.execute_input": "2025-01-02T16:14:14.102605Z",
          "iopub.status.idle": "2025-01-02T16:14:14.112747Z",
          "shell.execute_reply.started": "2025-01-02T16:14:14.102579Z",
          "shell.execute_reply": "2025-01-02T16:14:14.111836Z"
        },
        "trusted": true,
        "id": "0l_6mThH65L0",
        "outputId": "5f1a1220-1368-412e-97c4-90ee03869ad8"
      },
      "outputs": [
        {
          "execution_count": 16,
          "output_type": "execute_result",
          "data": {
            "text/plain": "   ID Class                                                img  label\n0   1     n  /kaggle/output/street-view-getting-started-wit...   38.0\n1   2     8  /kaggle/output/street-view-getting-started-wit...   25.0\n2   3     T  /kaggle/output/street-view-getting-started-wit...   47.0\n3   4     I  /kaggle/output/street-view-getting-started-wit...   30.0\n4   5     R  /kaggle/output/street-view-getting-started-wit...   10.0",
            "text/html": "<div>\n<style scoped>\n    .dataframe tbody tr th:only-of-type {\n        vertical-align: middle;\n    }\n\n    .dataframe tbody tr th {\n        vertical-align: top;\n    }\n\n    .dataframe thead th {\n        text-align: right;\n    }\n</style>\n<table border=\"1\" class=\"dataframe\">\n  <thead>\n    <tr style=\"text-align: right;\">\n      <th></th>\n      <th>ID</th>\n      <th>Class</th>\n      <th>img</th>\n      <th>label</th>\n    </tr>\n  </thead>\n  <tbody>\n    <tr>\n      <th>0</th>\n      <td>1</td>\n      <td>n</td>\n      <td>/kaggle/output/street-view-getting-started-wit...</td>\n      <td>38.0</td>\n    </tr>\n    <tr>\n      <th>1</th>\n      <td>2</td>\n      <td>8</td>\n      <td>/kaggle/output/street-view-getting-started-wit...</td>\n      <td>25.0</td>\n    </tr>\n    <tr>\n      <th>2</th>\n      <td>3</td>\n      <td>T</td>\n      <td>/kaggle/output/street-view-getting-started-wit...</td>\n      <td>47.0</td>\n    </tr>\n    <tr>\n      <th>3</th>\n      <td>4</td>\n      <td>I</td>\n      <td>/kaggle/output/street-view-getting-started-wit...</td>\n      <td>30.0</td>\n    </tr>\n    <tr>\n      <th>4</th>\n      <td>5</td>\n      <td>R</td>\n      <td>/kaggle/output/street-view-getting-started-wit...</td>\n      <td>10.0</td>\n    </tr>\n  </tbody>\n</table>\n</div>"
          },
          "metadata": {}
        }
      ],
      "execution_count": null
    },
    {
      "cell_type": "code",
      "source": [
        "y.value_counts()"
      ],
      "metadata": {
        "execution": {
          "iopub.status.busy": "2025-01-02T16:14:21.731041Z",
          "iopub.execute_input": "2025-01-02T16:14:21.731680Z",
          "iopub.status.idle": "2025-01-02T16:14:21.741068Z",
          "shell.execute_reply.started": "2025-01-02T16:14:21.731647Z",
          "shell.execute_reply": "2025-01-02T16:14:21.740140Z"
        },
        "trusted": true,
        "id": "vQsJPg2P65L1",
        "outputId": "373f97fb-b635-4099-a541-fe91b4a46b39"
      },
      "outputs": [
        {
          "execution_count": 17,
          "output_type": "execute_result",
          "data": {
            "text/plain": "A    459\nE    357\nR    309\nO    291\nN    279\n    ... \nv     23\n8     21\nQ     21\nz     20\nj     20\nName: Class, Length: 62, dtype: int64"
          },
          "metadata": {}
        }
      ],
      "execution_count": null
    },
    {
      "cell_type": "code",
      "source": [
        "result = y.value_counts()\n",
        "plt.figure(figsize = (20, 5))\n",
        "plt.title(\"Number of items b in each category\")\n",
        "plt.xlabel(\"Characters\")\n",
        "plt.ylabel(\"Number of characters\")\n",
        "result.plot.bar(width = 0.8)"
      ],
      "metadata": {
        "execution": {
          "iopub.status.busy": "2025-01-02T16:14:33.137462Z",
          "iopub.execute_input": "2025-01-02T16:14:33.138246Z",
          "iopub.status.idle": "2025-01-02T16:14:33.762176Z",
          "shell.execute_reply.started": "2025-01-02T16:14:33.138214Z",
          "shell.execute_reply": "2025-01-02T16:14:33.761259Z"
        },
        "trusted": true,
        "id": "TYdFMwvc65L1",
        "outputId": "b729b1c4-1a51-4271-f5a0-0c600806426a"
      },
      "outputs": [
        {
          "execution_count": 18,
          "output_type": "execute_result",
          "data": {
            "text/plain": "<AxesSubplot:title={'center':'Number of items b in each category'}, xlabel='Characters', ylabel='Number of characters'>"
          },
          "metadata": {}
        },
        {
          "output_type": "display_data",
          "data": {
            "text/plain": "<Figure size 1440x360 with 1 Axes>",
            "image/png": "[encoded data removed]"
          },
          "metadata": {
            "needs_background": "light"
          }
        }
      ],
      "execution_count": null
    },
    {
      "cell_type": "markdown",
      "source": [
        "**EN** As we can see, the difference with some characters is quite big\n",
        "**ES** Como se puede ver hay una gran diferencia entre algunos caracteres"
      ],
      "metadata": {
        "id": "PK-fPFiM65L2"
      }
    },
    {
      "cell_type": "code",
      "source": [
        "X = X.drop(\"ID\", axis = 1)"
      ],
      "metadata": {
        "execution": {
          "iopub.status.busy": "2025-01-02T16:14:39.221551Z",
          "iopub.execute_input": "2025-01-02T16:14:39.221905Z",
          "iopub.status.idle": "2025-01-02T16:14:39.227893Z",
          "shell.execute_reply.started": "2025-01-02T16:14:39.221877Z",
          "shell.execute_reply": "2025-01-02T16:14:39.226630Z"
        },
        "trusted": true,
        "id": "Xl1FHHvb65L2"
      },
      "outputs": [],
      "execution_count": null
    },
    {
      "cell_type": "markdown",
      "source": [
        "**EN** See the number of pixels in the image and the image number\n",
        "**ES** Mirar el numero de pixeles de la imagen y el numero de imagenes disponibles"
      ],
      "metadata": {
        "id": "C1Np049K65L3"
      }
    },
    {
      "cell_type": "code",
      "source": [
        "print(f'Number of images: {X.shape[0]}\\nNumer of pixels per image {X.shape[1]}')"
      ],
      "metadata": {
        "execution": {
          "iopub.status.busy": "2025-01-02T16:14:49.030969Z",
          "iopub.execute_input": "2025-01-02T16:14:49.031830Z",
          "iopub.status.idle": "2025-01-02T16:14:49.037082Z",
          "shell.execute_reply.started": "2025-01-02T16:14:49.031796Z",
          "shell.execute_reply": "2025-01-02T16:14:49.035442Z"
        },
        "trusted": true,
        "id": "8cHEdqNX65L3",
        "outputId": "b96862a1-7520-49a5-c4c1-c6c2f6725b87"
      },
      "outputs": [
        {
          "name": "stdout",
          "text": "Number of images: 6283\nNumer of pixels per image 1\n",
          "output_type": "stream"
        }
      ],
      "execution_count": null
    },
    {
      "cell_type": "code",
      "source": [
        "X.head()"
      ],
      "metadata": {
        "execution": {
          "iopub.status.busy": "2025-01-02T16:14:54.815249Z",
          "iopub.execute_input": "2025-01-02T16:14:54.816089Z",
          "iopub.status.idle": "2025-01-02T16:14:54.823854Z",
          "shell.execute_reply.started": "2025-01-02T16:14:54.816058Z",
          "shell.execute_reply": "2025-01-02T16:14:54.823007Z"
        },
        "trusted": true,
        "id": "v4WGlWBg65L4",
        "outputId": "272f64bd-0758-4430-db52-0e76c973dced"
      },
      "outputs": [
        {
          "execution_count": 21,
          "output_type": "execute_result",
          "data": {
            "text/plain": "                                                 img\n0  /kaggle/output/street-view-getting-started-wit...\n1  /kaggle/output/street-view-getting-started-wit...\n2  /kaggle/output/street-view-getting-started-wit...\n3  /kaggle/output/street-view-getting-started-wit...\n4  /kaggle/output/street-view-getting-started-wit...",
            "text/html": "<div>\n<style scoped>\n    .dataframe tbody tr th:only-of-type {\n        vertical-align: middle;\n    }\n\n    .dataframe tbody tr th {\n        vertical-align: top;\n    }\n\n    .dataframe thead th {\n        text-align: right;\n    }\n</style>\n<table border=\"1\" class=\"dataframe\">\n  <thead>\n    <tr style=\"text-align: right;\">\n      <th></th>\n      <th>img</th>\n    </tr>\n  </thead>\n  <tbody>\n    <tr>\n      <th>0</th>\n      <td>/kaggle/output/street-view-getting-started-wit...</td>\n    </tr>\n    <tr>\n      <th>1</th>\n      <td>/kaggle/output/street-view-getting-started-wit...</td>\n    </tr>\n    <tr>\n      <th>2</th>\n      <td>/kaggle/output/street-view-getting-started-wit...</td>\n    </tr>\n    <tr>\n      <th>3</th>\n      <td>/kaggle/output/street-view-getting-started-wit...</td>\n    </tr>\n    <tr>\n      <th>4</th>\n      <td>/kaggle/output/street-view-getting-started-wit...</td>\n    </tr>\n  </tbody>\n</table>\n</div>"
          },
          "metadata": {}
        }
      ],
      "execution_count": null
    },
    {
      "cell_type": "markdown",
      "source": [
        "**EN** Change dir to image and separe this in pixels\n",
        "\n",
        "**ES** Cambiar el directirio y poner la imagen separando los pixeles"
      ],
      "metadata": {
        "id": "fmNNLFYl65L5"
      }
    },
    {
      "cell_type": "code",
      "source": [
        "train_data_img = []\n",
        "for img_path in train_data[\"img\"]:\n",
        "    img = image.imread(img_path)\n",
        "    data = np.asarray(img)\n",
        "    if data.shape != (20, 20, 3):\n",
        "        data = np.repeat(data[:, :, np.newaxis], 3, axis=2)\n",
        "    train_data_img.append(data)\n",
        "\n",
        "\n",
        "img_data = np.asarray(train_data_img, dtype=np.uint8)\n",
        "print(\"Completed\")"
      ],
      "metadata": {
        "execution": {
          "iopub.status.busy": "2025-01-02T16:14:59.925657Z",
          "iopub.execute_input": "2025-01-02T16:14:59.926020Z",
          "iopub.status.idle": "2025-01-02T16:15:00.733661Z",
          "shell.execute_reply.started": "2025-01-02T16:14:59.925989Z",
          "shell.execute_reply": "2025-01-02T16:15:00.732719Z"
        },
        "trusted": true,
        "id": "5U5o3h1X65L5",
        "outputId": "a73cb4ae-308a-476b-f06d-581f813052ae"
      },
      "outputs": [
        {
          "name": "stdout",
          "text": "Completed\n",
          "output_type": "stream"
        }
      ],
      "execution_count": null
    },
    {
      "cell_type": "code",
      "source": [
        "# final_train=[cv2.resize(image,(28,28)).flatten() for image in train_data_img]"
      ],
      "metadata": {
        "execution": {
          "iopub.status.busy": "2025-01-02T16:15:02.264580Z",
          "iopub.execute_input": "2025-01-02T16:15:02.264922Z",
          "iopub.status.idle": "2025-01-02T16:15:02.269261Z",
          "shell.execute_reply.started": "2025-01-02T16:15:02.264895Z",
          "shell.execute_reply": "2025-01-02T16:15:02.268160Z"
        },
        "trusted": true,
        "id": "sI9CcYWt65L6"
      },
      "outputs": [],
      "execution_count": null
    },
    {
      "cell_type": "code",
      "source": [
        "img_data.shape"
      ],
      "metadata": {
        "execution": {
          "iopub.status.busy": "2025-01-02T16:15:03.451704Z",
          "iopub.execute_input": "2025-01-02T16:15:03.452429Z",
          "iopub.status.idle": "2025-01-02T16:15:03.458248Z",
          "shell.execute_reply.started": "2025-01-02T16:15:03.452386Z",
          "shell.execute_reply": "2025-01-02T16:15:03.457132Z"
        },
        "trusted": true,
        "id": "ChygU3ot65L6",
        "outputId": "ae79deb3-19fd-4023-9e7e-433c7503197c"
      },
      "outputs": [
        {
          "execution_count": 24,
          "output_type": "execute_result",
          "data": {
            "text/plain": "(6283, 20, 20, 3)"
          },
          "metadata": {}
        }
      ],
      "execution_count": null
    },
    {
      "cell_type": "code",
      "source": [
        "# See if the number of images its the same in X and in img_data\n",
        "print(f\"X: {X.shape[0]} size \\nimg_data: {img_data.shape[0]} size\")"
      ],
      "metadata": {
        "execution": {
          "iopub.status.busy": "2025-01-02T16:15:05.636002Z",
          "iopub.execute_input": "2025-01-02T16:15:05.636721Z",
          "iopub.status.idle": "2025-01-02T16:15:05.640970Z",
          "shell.execute_reply.started": "2025-01-02T16:15:05.636689Z",
          "shell.execute_reply": "2025-01-02T16:15:05.639966Z"
        },
        "trusted": true,
        "id": "2iRpNBz-65L7",
        "outputId": "9f03ac2b-9d92-4568-9b3d-30de11ba544c"
      },
      "outputs": [
        {
          "name": "stdout",
          "text": "X: 6283 size \nimg_data: 6283 size\n",
          "output_type": "stream"
        }
      ],
      "execution_count": null
    },
    {
      "cell_type": "markdown",
      "source": [
        "**EN** Show non modified img\n",
        "**ES** Muestra las imagenes no modificadas"
      ],
      "metadata": {
        "id": "2w-SUfOd65L7"
      }
    },
    {
      "cell_type": "code",
      "source": [
        "for i in range(9):\n",
        "    plt.subplot(3,3, i+1)\n",
        "    plt.imshow(img_data[i])"
      ],
      "metadata": {
        "execution": {
          "iopub.status.busy": "2025-01-02T16:15:08.988044Z",
          "iopub.execute_input": "2025-01-02T16:15:08.988416Z",
          "iopub.status.idle": "2025-01-02T16:15:09.522697Z",
          "shell.execute_reply.started": "2025-01-02T16:15:08.988383Z",
          "shell.execute_reply": "2025-01-02T16:15:09.521844Z"
        },
        "trusted": true,
        "id": "zISa3yL865L8",
        "outputId": "248c155b-4b26-49b2-f29a-e4416d79d5d1"
      },
      "outputs": [
        {
          "output_type": "display_data",
          "data": {
            "text/plain": "<Figure size 432x288 with 9 Axes>",
            "image/png": "[encoded data removed]"
          },
          "metadata": {
            "needs_background": "light"
          }
        }
      ],
      "execution_count": null
    },
    {
      "cell_type": "markdown",
      "source": [
        "**EN** Create the data generaton\n",
        "\n",
        "**ES** Creamos el creador de datos,"
      ],
      "metadata": {
        "id": "f7k9e1rS65L8"
      }
    },
    {
      "cell_type": "markdown",
      "source": [
        "### Date generator"
      ],
      "metadata": {
        "id": "9EQ7FQqu65L9"
      }
    },
    {
      "cell_type": "code",
      "source": [
        "datagen = ImageDataGenerator (\n",
        "    zoom_range = 0.2,\n",
        "    rescale = 1./255,\n",
        "    rotation_range = 5.0,\n",
        "    shear_range = 3.0,\n",
        "    brightness_range = [0.0, 3.0]\n",
        ")"
      ],
      "metadata": {
        "execution": {
          "iopub.status.busy": "2025-01-02T16:15:28.378443Z",
          "iopub.execute_input": "2025-01-02T16:15:28.379130Z",
          "iopub.status.idle": "2025-01-02T16:15:28.383705Z",
          "shell.execute_reply.started": "2025-01-02T16:15:28.379086Z",
          "shell.execute_reply": "2025-01-02T16:15:28.382656Z"
        },
        "trusted": true,
        "id": "JLPuHqsp65L9"
      },
      "outputs": [],
      "execution_count": null
    },
    {
      "cell_type": "markdown",
      "source": [],
      "metadata": {
        "id": "PkHfuODr65L9"
      }
    },
    {
      "cell_type": "code",
      "source": [
        "X = img_data\n",
        "X = np.array(X).astype(float) / 255 # Normalize the data\n",
        "\n",
        "y = np.array(train_data[\"label\"])"
      ],
      "metadata": {
        "execution": {
          "iopub.status.busy": "2025-01-02T16:15:32.441780Z",
          "iopub.execute_input": "2025-01-02T16:15:32.442473Z",
          "iopub.status.idle": "2025-01-02T16:15:32.471085Z",
          "shell.execute_reply.started": "2025-01-02T16:15:32.442442Z",
          "shell.execute_reply": "2025-01-02T16:15:32.470234Z"
        },
        "trusted": true,
        "id": "c7XF-Ivu65L-"
      },
      "outputs": [],
      "execution_count": null
    },
    {
      "cell_type": "code",
      "source": [
        "datagen.fit(X)\n",
        "plt.figure(figsize = (20, 8))\n",
        "datagen.flow(X, y, batch_size = 10, shuffle = False)"
      ],
      "metadata": {
        "execution": {
          "iopub.status.busy": "2025-01-02T16:15:36.285379Z",
          "iopub.execute_input": "2025-01-02T16:15:36.286220Z",
          "iopub.status.idle": "2025-01-02T16:15:36.336805Z",
          "shell.execute_reply.started": "2025-01-02T16:15:36.286188Z",
          "shell.execute_reply": "2025-01-02T16:15:36.335800Z"
        },
        "trusted": true,
        "id": "0Fh6tUtx65MM",
        "outputId": "5f4dfa71-8819-4762-ad50-c6917464873e"
      },
      "outputs": [
        {
          "execution_count": 29,
          "output_type": "execute_result",
          "data": {
            "text/plain": "<keras.preprocessing.image.NumpyArrayIterator at 0x7e05a61d7350>"
          },
          "metadata": {}
        },
        {
          "output_type": "display_data",
          "data": {
            "text/plain": "<Figure size 1440x576 with 0 Axes>"
          },
          "metadata": {}
        }
      ],
      "execution_count": null
    },
    {
      "cell_type": "markdown",
      "source": [
        "**EN** Show the \"fake\" data\n",
        "\n",
        "**ES** Muestra los datos \"falsos\""
      ],
      "metadata": {
        "id": "OqfBRqVe65MM"
      }
    },
    {
      "cell_type": "code",
      "source": [
        "for img, label in datagen.flow(X, y, batch_size = 10, shuffle = False):\n",
        "    for i in range(10):\n",
        "        plt.subplot(2,5, i+1)\n",
        "        plt.xticks([])\n",
        "        plt.yticks([])\n",
        "        plt.imshow(img[i])\n",
        "    break"
      ],
      "metadata": {
        "execution": {
          "iopub.status.busy": "2025-01-02T16:15:39.540361Z",
          "iopub.execute_input": "2025-01-02T16:15:39.541003Z",
          "iopub.status.idle": "2025-01-02T16:15:39.878148Z",
          "shell.execute_reply.started": "2025-01-02T16:15:39.540970Z",
          "shell.execute_reply": "2025-01-02T16:15:39.877117Z"
        },
        "trusted": true,
        "id": "m6e8WlC365MN",
        "outputId": "2b9bb266-68ee-4841-94f8-4c039851830d"
      },
      "outputs": [
        {
          "output_type": "display_data",
          "data": {
            "text/plain": "<Figure size 432x288 with 10 Axes>",
            "image/png": "[encoded data removed]"
          },
          "metadata": {}
        }
      ],
      "execution_count": null
    },
    {
      "cell_type": "markdown",
      "source": [
        "### Training and validation split"
      ],
      "metadata": {
        "id": "-qiZs7iZ65MN"
      }
    },
    {
      "cell_type": "markdown",
      "source": [
        "**EN** Split of X and Y in training and validation data\n",
        "\n",
        "**ES** División de **X** e **y** en datos de entrenamiento y validación"
      ],
      "metadata": {
        "id": "9cHaG09765MO"
      }
    },
    {
      "cell_type": "code",
      "source": [
        "X_train, X_val, y_train, y_val = train_test_split(X, y, test_size = 0.25, random_state = 0) # Test size = 25% of the data"
      ],
      "metadata": {
        "execution": {
          "iopub.status.busy": "2025-01-02T16:15:52.202062Z",
          "iopub.execute_input": "2025-01-02T16:15:52.202950Z",
          "iopub.status.idle": "2025-01-02T16:15:52.226115Z",
          "shell.execute_reply.started": "2025-01-02T16:15:52.202917Z",
          "shell.execute_reply": "2025-01-02T16:15:52.225129Z"
        },
        "trusted": true,
        "id": "0V8UUA5465MO"
      },
      "outputs": [],
      "execution_count": null
    },
    {
      "cell_type": "markdown",
      "source": [
        "**EN** Generate extra data, with latest parameters (datagen)\n",
        "\n",
        "**ES** Generar datos extra mediante los anteriores parametros (datagen)"
      ],
      "metadata": {
        "id": "jsxZmpqX65MO"
      }
    },
    {
      "cell_type": "code",
      "source": [
        "data_gen_train = datagen.flow(X_train, y_train, batch_size = 20)"
      ],
      "metadata": {
        "execution": {
          "iopub.status.busy": "2025-01-02T16:15:54.947525Z",
          "iopub.execute_input": "2025-01-02T16:15:54.948196Z",
          "iopub.status.idle": "2025-01-02T16:15:54.962263Z",
          "shell.execute_reply.started": "2025-01-02T16:15:54.948159Z",
          "shell.execute_reply": "2025-01-02T16:15:54.961307Z"
        },
        "trusted": true,
        "id": "eOsOFQmo65MP"
      },
      "outputs": [],
      "execution_count": null
    },
    {
      "cell_type": "code",
      "source": [
        "num_pos = len(train_data[\"Class\"].value_counts()) # Number of total posible results"
      ],
      "metadata": {
        "execution": {
          "iopub.status.busy": "2025-01-02T16:15:56.873162Z",
          "iopub.execute_input": "2025-01-02T16:15:56.873535Z",
          "iopub.status.idle": "2025-01-02T16:15:56.879192Z",
          "shell.execute_reply.started": "2025-01-02T16:15:56.873509Z",
          "shell.execute_reply": "2025-01-02T16:15:56.878190Z"
        },
        "trusted": true,
        "id": "d7nBmOpg65MP"
      },
      "outputs": [],
      "execution_count": null
    },
    {
      "cell_type": "markdown",
      "source": [
        "### Model creation and fit"
      ],
      "metadata": {
        "id": "qxqQpElJ65MQ"
      }
    },
    {
      "cell_type": "code",
      "source": [
        "import tensorflow as tf\n",
        "\n",
        "model = tf.keras.models.Sequential([\n",
        "    tf.keras.layers.Conv2D(32, (3,3), activation=\"relu\", padding=\"same\", input_shape=(20,20,3)),\n",
        "    tf.keras.layers.Conv2D(64, (3,3), activation=\"relu\", padding=\"same\"),\n",
        "    tf.keras.layers.MaxPooling2D(2,2),\n",
        "    tf.keras.layers.Dropout(0.25),\n",
        "\n",
        "    tf.keras.layers.Conv2D(128, (3,3), activation=\"relu\", padding=\"same\"),\n",
        "    tf.keras.layers.MaxPooling2D(2,2),\n",
        "    tf.keras.layers.Dropout(0.2),\n",
        "\n",
        "    tf.keras.layers.Conv2D(128, (3,3), activation=\"relu\", padding=\"same\"),\n",
        "    tf.keras.layers.MaxPooling2D(2,2),\n",
        "    tf.keras.layers.Dropout(0.2),\n",
        "\n",
        "    tf.keras.layers.Flatten(),\n",
        "\n",
        "    tf.keras.layers.Dense(125, activation=\"relu\"),\n",
        "    tf.keras.layers.Dropout(0.2),\n",
        "    tf.keras.layers.Dense(250, activation=\"relu\"),\n",
        "    tf.keras.layers.Dense(500, activation=\"relu\"),\n",
        "    tf.keras.layers.Dropout(0.2),\n",
        "    tf.keras.layers.Dense(num_pos, activation='softmax')\n",
        "])\n",
        "\n",
        "print(\"Model created\")\n"
      ],
      "metadata": {
        "execution": {
          "iopub.status.busy": "2025-01-02T16:22:12.135538Z",
          "iopub.execute_input": "2025-01-02T16:22:12.135916Z",
          "iopub.status.idle": "2025-01-02T16:22:12.414824Z",
          "shell.execute_reply.started": "2025-01-02T16:22:12.135888Z",
          "shell.execute_reply": "2025-01-02T16:22:12.413902Z"
        },
        "trusted": true,
        "id": "jay3Rind65MQ",
        "outputId": "4b598972-9785-4394-9775-fa6d492dfc5d"
      },
      "outputs": [
        {
          "name": "stdout",
          "text": "Model created\n",
          "output_type": "stream"
        }
      ],
      "execution_count": null
    },
    {
      "cell_type": "markdown",
      "source": [
        "**EN** Compile the model\n",
        "\n",
        "**ES** Compilar el modelo"
      ],
      "metadata": {
        "id": "h4QKKhsP65MR"
      }
    },
    {
      "cell_type": "code",
      "source": [
        "model.compile(optimizer = \"adam\", loss=\"sparse_categorical_crossentropy\", metrics = [\"accuracy\"])\n",
        "print(\"Model compiled\")"
      ],
      "metadata": {
        "execution": {
          "iopub.status.busy": "2025-01-02T16:22:17.616560Z",
          "iopub.execute_input": "2025-01-02T16:22:17.617255Z",
          "iopub.status.idle": "2025-01-02T16:22:17.631638Z",
          "shell.execute_reply.started": "2025-01-02T16:22:17.617222Z",
          "shell.execute_reply": "2025-01-02T16:22:17.630730Z"
        },
        "trusted": true,
        "id": "ooaY9SBm65MR",
        "outputId": "24e67ea8-3e3a-4cb3-bda8-79b01e1be506"
      },
      "outputs": [
        {
          "name": "stdout",
          "text": "Model compiled\n",
          "output_type": "stream"
        }
      ],
      "execution_count": null
    },
    {
      "cell_type": "markdown",
      "source": [
        "**EN** Create early stopping metod to imporve the model, the model stops if it sees that its performance is being lower during several epochs\n",
        "\n",
        "**ES** Creamos un metodo *early stopping* para mejorar el modelo, el modelo para si ve que su desempeño esta siendo menor durante varias epocas"
      ],
      "metadata": {
        "id": "3hOxRtzF65MS"
      }
    },
    {
      "cell_type": "code",
      "source": [
        "es_callbacks = [tf.keras.callbacks.EarlyStopping(patience = 10, monitor = \"accuracy\")]"
      ],
      "metadata": {
        "execution": {
          "iopub.status.busy": "2025-01-02T16:22:21.189412Z",
          "iopub.execute_input": "2025-01-02T16:22:21.190119Z",
          "iopub.status.idle": "2025-01-02T16:22:21.194254Z",
          "shell.execute_reply.started": "2025-01-02T16:22:21.190076Z",
          "shell.execute_reply": "2025-01-02T16:22:21.193298Z"
        },
        "trusted": true,
        "id": "CZDe3Ljo65MS"
      },
      "outputs": [],
      "execution_count": null
    },
    {
      "cell_type": "markdown",
      "source": [
        "**EN** fit the model and save the historial\n",
        "\n",
        "**ES** Entrenamos el modelo y guardamos los datos"
      ],
      "metadata": {
        "id": "svicqKGt65MT"
      }
    },
    {
      "cell_type": "code",
      "source": [
        "history = model.fit(data_gen_train,\n",
        "             validation_data = (X_val, y_val),\n",
        "             epochs = 75, batch_size = 32, callbacks = es_callbacks, # Epochs number of times to repet the proces\n",
        "             validation_steps = 5)"
      ],
      "metadata": {
        "execution": {
          "iopub.status.busy": "2025-01-02T16:22:32.762571Z",
          "iopub.execute_input": "2025-01-02T16:22:32.762925Z",
          "iopub.status.idle": "2025-01-02T16:26:17.733543Z",
          "shell.execute_reply.started": "2025-01-02T16:22:32.762896Z",
          "shell.execute_reply": "2025-01-02T16:26:17.732789Z"
        },
        "trusted": true,
        "id": "f_mDt7G565MT",
        "outputId": "4ef46c14-21f7-4ac0-8208-3dc1e958ea19"
      },
      "outputs": [
        {
          "name": "stdout",
          "text": "Epoch 1/75\n236/236 [==============================] - 10s 13ms/step - loss: 3.8371 - accuracy: 0.0630 - val_loss: 3.7220 - val_accuracy: 0.0812\nEpoch 2/75\n236/236 [==============================] - 3s 13ms/step - loss: 3.7961 - accuracy: 0.0679 - val_loss: 3.6276 - val_accuracy: 0.0812\nEpoch 3/75\n236/236 [==============================] - 3s 13ms/step - loss: 3.7749 - accuracy: 0.0728 - val_loss: 3.5825 - val_accuracy: 0.0938\nEpoch 4/75\n236/236 [==============================] - 3s 13ms/step - loss: 3.4579 - accuracy: 0.1579 - val_loss: 2.6527 - val_accuracy: 0.2937\nEpoch 5/75\n236/236 [==============================] - 3s 12ms/step - loss: 2.7383 - accuracy: 0.2946 - val_loss: 2.0766 - val_accuracy: 0.4437\nEpoch 6/75\n236/236 [==============================] - 3s 12ms/step - loss: 2.3487 - accuracy: 0.3803 - val_loss: 1.5937 - val_accuracy: 0.6000\nEpoch 7/75\n236/236 [==============================] - 3s 13ms/step - loss: 2.0968 - accuracy: 0.4433 - val_loss: 1.5379 - val_accuracy: 0.5625\nEpoch 8/75\n236/236 [==============================] - 3s 13ms/step - loss: 1.8912 - accuracy: 0.4896 - val_loss: 1.4632 - val_accuracy: 0.6500\nEpoch 9/75\n236/236 [==============================] - 3s 12ms/step - loss: 1.7711 - accuracy: 0.5089 - val_loss: 1.3417 - val_accuracy: 0.6625\nEpoch 10/75\n236/236 [==============================] - 3s 13ms/step - loss: 1.6696 - accuracy: 0.5369 - val_loss: 1.2528 - val_accuracy: 0.6438\nEpoch 11/75\n236/236 [==============================] - 3s 12ms/step - loss: 1.5988 - accuracy: 0.5565 - val_loss: 1.1476 - val_accuracy: 0.6750\nEpoch 12/75\n236/236 [==============================] - 3s 12ms/step - loss: 1.5136 - accuracy: 0.5781 - val_loss: 1.1395 - val_accuracy: 0.6750\nEpoch 13/75\n236/236 [==============================] - 3s 12ms/step - loss: 1.4447 - accuracy: 0.5936 - val_loss: 1.1889 - val_accuracy: 0.6687\nEpoch 14/75\n236/236 [==============================] - 3s 13ms/step - loss: 1.4008 - accuracy: 0.6027 - val_loss: 1.1273 - val_accuracy: 0.6938\nEpoch 15/75\n236/236 [==============================] - 3s 12ms/step - loss: 1.3839 - accuracy: 0.6104 - val_loss: 1.0787 - val_accuracy: 0.6812\nEpoch 16/75\n236/236 [==============================] - 3s 12ms/step - loss: 1.3277 - accuracy: 0.6280 - val_loss: 1.0831 - val_accuracy: 0.7000\nEpoch 17/75\n236/236 [==============================] - 3s 13ms/step - loss: 1.3233 - accuracy: 0.6186 - val_loss: 1.1133 - val_accuracy: 0.6875\nEpoch 18/75\n236/236 [==============================] - 3s 13ms/step - loss: 1.2714 - accuracy: 0.6437 - val_loss: 1.0104 - val_accuracy: 0.7250\nEpoch 19/75\n236/236 [==============================] - 3s 13ms/step - loss: 1.2371 - accuracy: 0.6401 - val_loss: 1.0749 - val_accuracy: 0.7250\nEpoch 20/75\n236/236 [==============================] - 3s 13ms/step - loss: 1.2331 - accuracy: 0.6486 - val_loss: 0.9752 - val_accuracy: 0.7250\nEpoch 21/75\n236/236 [==============================] - 3s 12ms/step - loss: 1.1924 - accuracy: 0.6494 - val_loss: 1.0604 - val_accuracy: 0.7063\nEpoch 22/75\n236/236 [==============================] - 3s 12ms/step - loss: 1.1973 - accuracy: 0.6547 - val_loss: 1.0144 - val_accuracy: 0.7312\nEpoch 23/75\n236/236 [==============================] - 3s 12ms/step - loss: 1.1439 - accuracy: 0.6728 - val_loss: 1.0175 - val_accuracy: 0.7188\nEpoch 24/75\n236/236 [==============================] - 3s 12ms/step - loss: 1.1314 - accuracy: 0.6711 - val_loss: 0.9917 - val_accuracy: 0.7375\nEpoch 25/75\n236/236 [==============================] - 3s 13ms/step - loss: 1.0924 - accuracy: 0.6787 - val_loss: 1.0400 - val_accuracy: 0.7375\nEpoch 26/75\n236/236 [==============================] - 3s 13ms/step - loss: 1.1286 - accuracy: 0.6827 - val_loss: 1.0266 - val_accuracy: 0.7125\nEpoch 27/75\n236/236 [==============================] - 3s 12ms/step - loss: 1.0907 - accuracy: 0.6840 - val_loss: 1.0455 - val_accuracy: 0.7500\nEpoch 28/75\n236/236 [==============================] - 3s 12ms/step - loss: 1.0707 - accuracy: 0.6944 - val_loss: 1.0388 - val_accuracy: 0.7375\nEpoch 29/75\n236/236 [==============================] - 3s 13ms/step - loss: 1.0710 - accuracy: 0.6859 - val_loss: 1.0076 - val_accuracy: 0.7125\nEpoch 30/75\n236/236 [==============================] - 3s 12ms/step - loss: 1.0412 - accuracy: 0.6961 - val_loss: 0.9305 - val_accuracy: 0.7375\nEpoch 31/75\n236/236 [==============================] - 3s 12ms/step - loss: 1.0452 - accuracy: 0.6910 - val_loss: 1.0049 - val_accuracy: 0.7437\nEpoch 32/75\n236/236 [==============================] - 3s 12ms/step - loss: 1.0238 - accuracy: 0.7046 - val_loss: 1.1013 - val_accuracy: 0.6750\nEpoch 33/75\n236/236 [==============================] - 3s 12ms/step - loss: 1.0395 - accuracy: 0.6921 - val_loss: 0.9866 - val_accuracy: 0.7125\nEpoch 34/75\n236/236 [==============================] - 3s 12ms/step - loss: 0.9857 - accuracy: 0.7082 - val_loss: 1.0746 - val_accuracy: 0.7125\nEpoch 35/75\n236/236 [==============================] - 3s 12ms/step - loss: 0.9925 - accuracy: 0.7118 - val_loss: 0.9920 - val_accuracy: 0.7437\nEpoch 36/75\n236/236 [==============================] - 3s 12ms/step - loss: 0.9992 - accuracy: 0.7027 - val_loss: 1.0089 - val_accuracy: 0.7375\nEpoch 37/75\n236/236 [==============================] - 3s 12ms/step - loss: 1.0037 - accuracy: 0.6959 - val_loss: 0.9755 - val_accuracy: 0.7188\nEpoch 38/75\n236/236 [==============================] - 3s 12ms/step - loss: 0.9694 - accuracy: 0.7063 - val_loss: 0.9991 - val_accuracy: 0.7250\nEpoch 39/75\n236/236 [==============================] - 3s 12ms/step - loss: 0.9452 - accuracy: 0.7192 - val_loss: 1.0021 - val_accuracy: 0.7250\nEpoch 40/75\n236/236 [==============================] - 3s 12ms/step - loss: 0.9536 - accuracy: 0.7173 - val_loss: 1.0833 - val_accuracy: 0.7250\nEpoch 41/75\n236/236 [==============================] - 3s 12ms/step - loss: 0.9838 - accuracy: 0.7139 - val_loss: 1.0529 - val_accuracy: 0.7312\nEpoch 42/75\n236/236 [==============================] - 3s 12ms/step - loss: 0.9415 - accuracy: 0.7224 - val_loss: 0.9760 - val_accuracy: 0.7375\nEpoch 43/75\n236/236 [==============================] - 3s 12ms/step - loss: 0.9489 - accuracy: 0.7148 - val_loss: 0.9766 - val_accuracy: 0.7375\nEpoch 44/75\n236/236 [==============================] - 3s 12ms/step - loss: 0.9481 - accuracy: 0.7160 - val_loss: 0.9212 - val_accuracy: 0.7625\nEpoch 45/75\n236/236 [==============================] - 3s 12ms/step - loss: 0.8965 - accuracy: 0.7317 - val_loss: 1.0933 - val_accuracy: 0.7375\nEpoch 46/75\n236/236 [==============================] - 3s 12ms/step - loss: 0.9396 - accuracy: 0.7241 - val_loss: 0.9490 - val_accuracy: 0.7625\nEpoch 47/75\n236/236 [==============================] - 3s 13ms/step - loss: 0.9193 - accuracy: 0.7294 - val_loss: 0.9515 - val_accuracy: 0.7437\nEpoch 48/75\n236/236 [==============================] - 3s 12ms/step - loss: 0.9026 - accuracy: 0.7330 - val_loss: 0.9675 - val_accuracy: 0.7437\nEpoch 49/75\n236/236 [==============================] - 3s 12ms/step - loss: 0.8870 - accuracy: 0.7349 - val_loss: 1.0209 - val_accuracy: 0.7312\nEpoch 50/75\n236/236 [==============================] - 3s 12ms/step - loss: 0.8793 - accuracy: 0.7341 - val_loss: 0.9079 - val_accuracy: 0.7750\nEpoch 51/75\n236/236 [==============================] - 3s 12ms/step - loss: 0.8730 - accuracy: 0.7368 - val_loss: 0.9215 - val_accuracy: 0.7437\nEpoch 52/75\n236/236 [==============================] - 3s 12ms/step - loss: 0.8693 - accuracy: 0.7362 - val_loss: 0.9662 - val_accuracy: 0.7563\nEpoch 53/75\n236/236 [==============================] - 3s 12ms/step - loss: 0.8709 - accuracy: 0.7436 - val_loss: 0.9639 - val_accuracy: 0.7625\nEpoch 54/75\n236/236 [==============================] - 3s 12ms/step - loss: 0.9013 - accuracy: 0.7243 - val_loss: 1.1043 - val_accuracy: 0.7125\nEpoch 55/75\n236/236 [==============================] - 3s 12ms/step - loss: 0.8554 - accuracy: 0.7404 - val_loss: 0.9792 - val_accuracy: 0.7625\nEpoch 56/75\n236/236 [==============================] - 3s 12ms/step - loss: 0.8710 - accuracy: 0.7328 - val_loss: 0.9608 - val_accuracy: 0.7437\nEpoch 57/75\n236/236 [==============================] - 3s 12ms/step - loss: 0.8414 - accuracy: 0.7479 - val_loss: 1.0324 - val_accuracy: 0.7500\nEpoch 58/75\n236/236 [==============================] - 3s 12ms/step - loss: 0.8524 - accuracy: 0.7466 - val_loss: 1.0059 - val_accuracy: 0.7250\nEpoch 59/75\n236/236 [==============================] - 3s 12ms/step - loss: 0.8575 - accuracy: 0.7400 - val_loss: 1.0050 - val_accuracy: 0.7375\nEpoch 60/75\n236/236 [==============================] - 3s 12ms/step - loss: 0.8441 - accuracy: 0.7415 - val_loss: 0.9900 - val_accuracy: 0.7563\nEpoch 61/75\n236/236 [==============================] - 3s 12ms/step - loss: 0.8364 - accuracy: 0.7466 - val_loss: 1.0085 - val_accuracy: 0.7437\nEpoch 62/75\n236/236 [==============================] - 3s 12ms/step - loss: 0.8608 - accuracy: 0.7358 - val_loss: 0.9414 - val_accuracy: 0.7500\nEpoch 63/75\n236/236 [==============================] - 3s 12ms/step - loss: 0.8646 - accuracy: 0.7479 - val_loss: 0.9679 - val_accuracy: 0.7750\nEpoch 64/75\n236/236 [==============================] - 3s 12ms/step - loss: 0.8318 - accuracy: 0.7460 - val_loss: 1.0150 - val_accuracy: 0.7375\nEpoch 65/75\n236/236 [==============================] - 3s 12ms/step - loss: 0.8172 - accuracy: 0.7504 - val_loss: 0.9978 - val_accuracy: 0.7688\nEpoch 66/75\n236/236 [==============================] - 3s 12ms/step - loss: 0.8544 - accuracy: 0.7466 - val_loss: 0.9310 - val_accuracy: 0.7437\nEpoch 67/75\n236/236 [==============================] - 3s 12ms/step - loss: 0.8762 - accuracy: 0.7428 - val_loss: 1.0435 - val_accuracy: 0.7563\nEpoch 68/75\n236/236 [==============================] - 3s 12ms/step - loss: 0.7928 - accuracy: 0.7598 - val_loss: 0.9852 - val_accuracy: 0.7375\nEpoch 69/75\n236/236 [==============================] - 3s 12ms/step - loss: 0.8518 - accuracy: 0.7475 - val_loss: 1.0283 - val_accuracy: 0.7063\nEpoch 70/75\n236/236 [==============================] - 3s 13ms/step - loss: 0.8212 - accuracy: 0.7555 - val_loss: 0.9538 - val_accuracy: 0.7625\nEpoch 71/75\n236/236 [==============================] - 3s 13ms/step - loss: 0.8468 - accuracy: 0.7483 - val_loss: 1.0431 - val_accuracy: 0.7563\nEpoch 72/75\n236/236 [==============================] - 3s 12ms/step - loss: 0.8419 - accuracy: 0.7449 - val_loss: 1.1671 - val_accuracy: 0.7125\nEpoch 73/75\n236/236 [==============================] - 3s 12ms/step - loss: 0.8286 - accuracy: 0.7511 - val_loss: 1.0726 - val_accuracy: 0.7437\nEpoch 74/75\n236/236 [==============================] - 3s 12ms/step - loss: 0.8412 - accuracy: 0.7411 - val_loss: 1.0080 - val_accuracy: 0.7375\nEpoch 75/75\n236/236 [==============================] - 3s 12ms/step - loss: 0.8271 - accuracy: 0.7532 - val_loss: 0.9415 - val_accuracy: 0.7437\n",
          "output_type": "stream"
        }
      ],
      "execution_count": null
    },
    {
      "cell_type": "code",
      "source": [
        "history_frame = pd.DataFrame(history.history)\n",
        "history_frame.loc[:, ['loss', 'val_loss']].plot()\n",
        "history_frame.loc[:, ['accuracy', 'val_accuracy']].plot()"
      ],
      "metadata": {
        "execution": {
          "iopub.status.busy": "2025-01-02T16:29:10.860599Z",
          "iopub.execute_input": "2025-01-02T16:29:10.860992Z",
          "iopub.status.idle": "2025-01-02T16:29:11.228202Z",
          "shell.execute_reply.started": "2025-01-02T16:29:10.860965Z",
          "shell.execute_reply": "2025-01-02T16:29:11.227288Z"
        },
        "trusted": true,
        "id": "OvdjlPUv65MU",
        "outputId": "fbce86e9-fa4a-440e-de11-fa9b33a22ae8"
      },
      "outputs": [
        {
          "execution_count": 41,
          "output_type": "execute_result",
          "data": {
            "text/plain": "<AxesSubplot:>"
          },
          "metadata": {}
        },
        {
          "output_type": "display_data",
          "data": {
            "text/plain": "<Figure size 432x288 with 1 Axes>",
            "image/png": "[encoded data removed]"
          },
          "metadata": {
            "needs_background": "light"
          }
        },
        {
          "output_type": "display_data",
          "data": {
            "text/plain": "<Figure size 432x288 with 1 Axes>",
            "image/png": "[encoded data removed]"
          },
          "metadata": {
            "needs_background": "light"
          }
        }
      ],
      "execution_count": null
    },
    {
      "cell_type": "code",
      "source": [
        "test_imgs = []\n",
        "names = []\n",
        "for dirname, _, filenames in os.walk(TEST_IMG_DIR):\n",
        "    for filename in filenames:\n",
        "        test_imgs.append(os.path.join(dirname, filename))\n",
        "        names.append(os.path.splitext(filename)[0])\n",
        "test_imgs = np.array(test_imgs)\n",
        "names = np.array(names)"
      ],
      "metadata": {
        "execution": {
          "iopub.status.busy": "2025-01-02T16:29:20.312349Z",
          "iopub.execute_input": "2025-01-02T16:29:20.313005Z",
          "iopub.status.idle": "2025-01-02T16:29:20.342567Z",
          "shell.execute_reply.started": "2025-01-02T16:29:20.312973Z",
          "shell.execute_reply": "2025-01-02T16:29:20.341928Z"
        },
        "trusted": true,
        "id": "pmwPLzVa65MU"
      },
      "outputs": [],
      "execution_count": null
    },
    {
      "cell_type": "code",
      "source": [
        "test_data_img_list = []\n",
        "for img_path in test_imgs:\n",
        "    img = image.imread(img_path)\n",
        "    data = np.asarray(img)\n",
        "    if data.shape != (20,20,3):\n",
        "        data = np.repeat(data[:, :, np.newaxis], 3, axis=2)\n",
        "    data = data / 255.\n",
        "    test_data_img_list.append(data)\n",
        "\n",
        "test_data_img = np.asarray(test_data_img_list)"
      ],
      "metadata": {
        "execution": {
          "iopub.status.busy": "2025-01-02T16:29:21.414617Z",
          "iopub.execute_input": "2025-01-02T16:29:21.415561Z",
          "iopub.status.idle": "2025-01-02T16:29:22.437950Z",
          "shell.execute_reply.started": "2025-01-02T16:29:21.415525Z",
          "shell.execute_reply": "2025-01-02T16:29:22.437137Z"
        },
        "trusted": true,
        "id": "KK1g5c1Q65MV"
      },
      "outputs": [],
      "execution_count": null
    },
    {
      "cell_type": "code",
      "source": [
        "pred = model.predict(test_data_img)"
      ],
      "metadata": {
        "execution": {
          "iopub.status.busy": "2025-01-02T16:29:25.672042Z",
          "iopub.execute_input": "2025-01-02T16:29:25.672411Z",
          "iopub.status.idle": "2025-01-02T16:29:26.075948Z",
          "shell.execute_reply.started": "2025-01-02T16:29:25.672382Z",
          "shell.execute_reply": "2025-01-02T16:29:26.074907Z"
        },
        "trusted": true,
        "id": "2eARGRjw65MV"
      },
      "outputs": [],
      "execution_count": null
    },
    {
      "cell_type": "code",
      "source": [
        "test = []\n",
        "res = []\n",
        "for i in range(0, len(pred)):\n",
        "    res.append(unique_labels[np.argmax(pred[i])])\n",
        "    test.append(np.argmax(pred[i]))"
      ],
      "metadata": {
        "execution": {
          "iopub.status.busy": "2025-01-02T16:29:27.838578Z",
          "iopub.execute_input": "2025-01-02T16:29:27.838995Z",
          "iopub.status.idle": "2025-01-02T16:29:27.868876Z",
          "shell.execute_reply.started": "2025-01-02T16:29:27.838962Z",
          "shell.execute_reply": "2025-01-02T16:29:27.867945Z"
        },
        "trusted": true,
        "id": "thYCCrGl65MV"
      },
      "outputs": [],
      "execution_count": null
    },
    {
      "cell_type": "code",
      "source": [
        "results = []\n",
        "test = []\n",
        "for i in range(0, len(pred)):\n",
        "    results.append(unique_labels[np.argmax(pred[i])])\n",
        "    test.append(np.argmax(pred[i]))\n",
        "\n",
        "submission = pd.DataFrame(names, columns=['ID'])\n",
        "submission['Class'] = results\n"
      ],
      "metadata": {
        "execution": {
          "iopub.status.busy": "2025-01-02T16:29:30.567756Z",
          "iopub.execute_input": "2025-01-02T16:29:30.568123Z",
          "iopub.status.idle": "2025-01-02T16:29:30.599743Z",
          "shell.execute_reply.started": "2025-01-02T16:29:30.568078Z",
          "shell.execute_reply": "2025-01-02T16:29:30.598846Z"
        },
        "trusted": true,
        "id": "rN6cCynR65MW"
      },
      "outputs": [],
      "execution_count": null
    },
    {
      "cell_type": "code",
      "source": [
        "submission.head(20)"
      ],
      "metadata": {
        "execution": {
          "iopub.status.busy": "2025-01-02T16:29:32.706031Z",
          "iopub.execute_input": "2025-01-02T16:29:32.706980Z",
          "iopub.status.idle": "2025-01-02T16:29:32.716214Z",
          "shell.execute_reply.started": "2025-01-02T16:29:32.706947Z",
          "shell.execute_reply": "2025-01-02T16:29:32.715419Z"
        },
        "trusted": true,
        "id": "HPvORSMx65MW",
        "outputId": "a3d7e6bb-2189-45c0-9adc-3a77422a7680"
      },
      "outputs": [
        {
          "execution_count": 48,
          "output_type": "execute_result",
          "data": {
            "text/plain": "       ID Class\n0    7899     E\n1    7466     e\n2    6485     H\n3    6911     I\n4    8662     r\n5   10930     a\n6   12453     E\n7    8057     I\n8   12446     B\n9    6679     T\n10   7990     T\n11  10284     N\n12  10619     O\n13  11247     M\n14  10929     I\n15   9219     A\n16  10347     R\n17  12271     O\n18  10044     a\n19  12286     e",
            "text/html": "<div>\n<style scoped>\n    .dataframe tbody tr th:only-of-type {\n        vertical-align: middle;\n    }\n\n    .dataframe tbody tr th {\n        vertical-align: top;\n    }\n\n    .dataframe thead th {\n        text-align: right;\n    }\n</style>\n<table border=\"1\" class=\"dataframe\">\n  <thead>\n    <tr style=\"text-align: right;\">\n      <th></th>\n      <th>ID</th>\n      <th>Class</th>\n    </tr>\n  </thead>\n  <tbody>\n    <tr>\n      <th>0</th>\n      <td>7899</td>\n      <td>E</td>\n    </tr>\n    <tr>\n      <th>1</th>\n      <td>7466</td>\n      <td>e</td>\n    </tr>\n    <tr>\n      <th>2</th>\n      <td>6485</td>\n      <td>H</td>\n    </tr>\n    <tr>\n      <th>3</th>\n      <td>6911</td>\n      <td>I</td>\n    </tr>\n    <tr>\n      <th>4</th>\n      <td>8662</td>\n      <td>r</td>\n    </tr>\n    <tr>\n      <th>5</th>\n      <td>10930</td>\n      <td>a</td>\n    </tr>\n    <tr>\n      <th>6</th>\n      <td>12453</td>\n      <td>E</td>\n    </tr>\n    <tr>\n      <th>7</th>\n      <td>8057</td>\n      <td>I</td>\n    </tr>\n    <tr>\n      <th>8</th>\n      <td>12446</td>\n      <td>B</td>\n    </tr>\n    <tr>\n      <th>9</th>\n      <td>6679</td>\n      <td>T</td>\n    </tr>\n    <tr>\n      <th>10</th>\n      <td>7990</td>\n      <td>T</td>\n    </tr>\n    <tr>\n      <th>11</th>\n      <td>10284</td>\n      <td>N</td>\n    </tr>\n    <tr>\n      <th>12</th>\n      <td>10619</td>\n      <td>O</td>\n    </tr>\n    <tr>\n      <th>13</th>\n      <td>11247</td>\n      <td>M</td>\n    </tr>\n    <tr>\n      <th>14</th>\n      <td>10929</td>\n      <td>I</td>\n    </tr>\n    <tr>\n      <th>15</th>\n      <td>9219</td>\n      <td>A</td>\n    </tr>\n    <tr>\n      <th>16</th>\n      <td>10347</td>\n      <td>R</td>\n    </tr>\n    <tr>\n      <th>17</th>\n      <td>12271</td>\n      <td>O</td>\n    </tr>\n    <tr>\n      <th>18</th>\n      <td>10044</td>\n      <td>a</td>\n    </tr>\n    <tr>\n      <th>19</th>\n      <td>12286</td>\n      <td>e</td>\n    </tr>\n  </tbody>\n</table>\n</div>"
          },
          "metadata": {}
        }
      ],
      "execution_count": null
    },
    {
      "cell_type": "code",
      "source": [
        "submission.to_csv('submission.csv', index = False)"
      ],
      "metadata": {
        "execution": {
          "iopub.status.busy": "2025-01-02T16:29:36.701597Z",
          "iopub.execute_input": "2025-01-02T16:29:36.702286Z",
          "iopub.status.idle": "2025-01-02T16:29:36.714911Z",
          "shell.execute_reply.started": "2025-01-02T16:29:36.702254Z",
          "shell.execute_reply": "2025-01-02T16:29:36.714030Z"
        },
        "trusted": true,
        "id": "-DrHWHmK65MX"
      },
      "outputs": [],
      "execution_count": null
    },
    {
      "cell_type": "code",
      "source": [],
      "metadata": {
        "trusted": true,
        "id": "slz_bi9565MX"
      },
      "outputs": [],
      "execution_count": null
    }
  ]
}