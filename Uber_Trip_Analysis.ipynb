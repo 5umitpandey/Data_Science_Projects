{
  "nbformat": 4,
  "nbformat_minor": 0,
  "metadata": {
    "colab": {
      "provenance": []
    },
    "kernelspec": {
      "name": "python3",
      "display_name": "Python 3"
    },
    "language_info": {
      "name": "python"
    }
  },
  "cells": [
    {
      "cell_type": "markdown",
      "source": [
        "#A Practical Approach Using Uber Rides Dataset\n",
        "\n",
        "###An EDA in Python"
      ],
      "metadata": {
        "id": "tHDXs3H97JRQ"
      }
    },
    {
      "cell_type": "markdown",
      "source": [
        "###1. Problem Definition\n",
        "####Depending on how many data and features you have, the analysis could go to the infinite and beyond.\n",
        "\n",
        "####So that’s why (after thinking process) I decided to focus on the following questions:\n",
        "\n",
        " 1. How many trips have I done over the years?\n",
        " 2. How many trips were Completed and Canceled?\n",
        " 3. Where did most of the dropoffs occur?\n",
        " 4. What product type was usually chosen?\n",
        " 5. What was the avg. fare, distance, amount and time spent on rides?\n",
        " 6. Which weekdays had the highest average fares?\n",
        " 7. Which was the longest/shortest and more expensive/cheaper ride?\n",
        " 8. What was the average lead time before begining a trip?"
      ],
      "metadata": {
        "id": "DECoeorQ9mDq"
      }
    },
    {
      "cell_type": "markdown",
      "source": [
        "###2. Data Discovery"
      ],
      "metadata": {
        "id": "nA46Ke4EReKc"
      }
    },
    {
      "cell_type": "code",
      "execution_count": null,
      "metadata": {
        "id": "D2Sgc03r9RLF"
      },
      "outputs": [],
      "source": [
        "# Libraries for handling numeric computation and dataframes\n",
        "import pandas as pd\n",
        "import numpy as np\n",
        "\n",
        "# Libraries for statistical plotting\n",
        "import matplotlib.pyplot as plt\n",
        "import seaborn as sns\n",
        "%matplotlib inline"
      ]
    },
    {
      "cell_type": "markdown",
      "source": [
        "##Requesting and downloading your Personal Dataset\n",
        "\n",
        "Uber’s data download feature provides you with in-depth information about your rides. \n",
        "\n",
        "You can request access to your data through the following link: https://myprivacy.uber.com/privacy/exploreyourdata/download"
      ],
      "metadata": {
        "id": "wWuebv0DQJ_W"
      }
    },
    {
      "cell_type": "code",
      "source": [
        "# My personal data storaged in my Github repository\n",
        "rides = pd.read_csv('https://raw.githubusercontent.com/faspy/raw_data/main/trips_data.csv')"
      ],
      "metadata": {
        "id": "aHBJPlYwQQgN"
      },
      "execution_count": null,
      "outputs": []
    },
    {
      "cell_type": "code",
      "source": [
        "#Checking basic dataset information (data types and dimensions), \n",
        "#Use .head( ) method to gain more sensibility around data formatting and understand the overall structure of the dataset values.\n",
        "rides.head()"
      ],
      "metadata": {
        "colab": {
          "base_uri": "https://localhost:8080/",
          "height": 444
        },
        "id": "HgrTs1eLMvsu",
        "outputId": "004b19dc-9e34-4da0-f52e-b975b6fa9e7e"
      },
      "execution_count": null,
      "outputs": [
        {
          "output_type": "execute_result",
          "data": {
            "text/plain": [
              "   city product_type     status                   request_time  \\\n",
              "0   458        Black  COMPLETED  2021-01-13 22:06:46 +0000 UTC   \n",
              "1   458          VIP  COMPLETED  2021-01-13 20:21:05 +0000 UTC   \n",
              "2   458          VIP  COMPLETED  2021-01-03 00:23:22 +0000 UTC   \n",
              "3   458          VIP  COMPLETED  2020-12-11 23:16:33 +0000 UTC   \n",
              "4   458          VIP  COMPLETED  2020-12-11 00:35:46 +0000 UTC   \n",
              "\n",
              "                      begin_time  begin_lat  begin_lng  \\\n",
              "0  2021-01-13 22:11:10 +0000 UTC -23.599752 -46.715954   \n",
              "1  2021-01-13 20:27:29 +0000 UTC -23.559298 -46.666454   \n",
              "2  2021-01-03 00:33:00 +0000 UTC -23.626593 -46.659410   \n",
              "3  2020-12-11 23:27:32 +0000 UTC -23.559410 -46.666435   \n",
              "4  2020-12-11 00:46:46 +0000 UTC -23.584846 -46.663590   \n",
              "\n",
              "                    dropoff_time  dropoff_lat  dropoff_lng  distance_miles  \\\n",
              "0  2021-01-13 22:29:13 +0000 UTC   -23.559359   -46.666542            4.84   \n",
              "1  2021-01-13 20:54:50 +0000 UTC   -23.599585   -46.715717            5.31   \n",
              "2  2021-01-03 00:50:56 +0000 UTC   -23.559273   -46.666595            5.90   \n",
              "3  2020-12-12 00:32:47 +0000 UTC   -23.425755   -46.481190           19.74   \n",
              "4  2020-12-11 00:57:57 +0000 UTC   -23.559261   -46.666510            2.54   \n",
              "\n",
              "   fare_amount fare_currency  \n",
              "0        29.63           BRL  \n",
              "1        20.86           BRL  \n",
              "2        34.23           BRL  \n",
              "3        58.77           BRL  \n",
              "4        12.63           BRL  "
            ],
            "text/html": [
              "\n",
              "  <div id=\"df-c6e0cd07-4998-4479-93d6-e1cf7b770a45\">\n",
              "    <div class=\"colab-df-container\">\n",
              "      <div>\n",
              "<style scoped>\n",
              "    .dataframe tbody tr th:only-of-type {\n",
              "        vertical-align: middle;\n",
              "    }\n",
              "\n",
              "    .dataframe tbody tr th {\n",
              "        vertical-align: top;\n",
              "    }\n",
              "\n",
              "    .dataframe thead th {\n",
              "        text-align: right;\n",
              "    }\n",
              "</style>\n",
              "<table border=\"1\" class=\"dataframe\">\n",
              "  <thead>\n",
              "    <tr style=\"text-align: right;\">\n",
              "      <th></th>\n",
              "      <th>city</th>\n",
              "      <th>product_type</th>\n",
              "      <th>status</th>\n",
              "      <th>request_time</th>\n",
              "      <th>begin_time</th>\n",
              "      <th>begin_lat</th>\n",
              "      <th>begin_lng</th>\n",
              "      <th>dropoff_time</th>\n",
              "      <th>dropoff_lat</th>\n",
              "      <th>dropoff_lng</th>\n",
              "      <th>distance_miles</th>\n",
              "      <th>fare_amount</th>\n",
              "      <th>fare_currency</th>\n",
              "    </tr>\n",
              "  </thead>\n",
              "  <tbody>\n",
              "    <tr>\n",
              "      <th>0</th>\n",
              "      <td>458</td>\n",
              "      <td>Black</td>\n",
              "      <td>COMPLETED</td>\n",
              "      <td>2021-01-13 22:06:46 +0000 UTC</td>\n",
              "      <td>2021-01-13 22:11:10 +0000 UTC</td>\n",
              "      <td>-23.599752</td>\n",
              "      <td>-46.715954</td>\n",
              "      <td>2021-01-13 22:29:13 +0000 UTC</td>\n",
              "      <td>-23.559359</td>\n",
              "      <td>-46.666542</td>\n",
              "      <td>4.84</td>\n",
              "      <td>29.63</td>\n",
              "      <td>BRL</td>\n",
              "    </tr>\n",
              "    <tr>\n",
              "      <th>1</th>\n",
              "      <td>458</td>\n",
              "      <td>VIP</td>\n",
              "      <td>COMPLETED</td>\n",
              "      <td>2021-01-13 20:21:05 +0000 UTC</td>\n",
              "      <td>2021-01-13 20:27:29 +0000 UTC</td>\n",
              "      <td>-23.559298</td>\n",
              "      <td>-46.666454</td>\n",
              "      <td>2021-01-13 20:54:50 +0000 UTC</td>\n",
              "      <td>-23.599585</td>\n",
              "      <td>-46.715717</td>\n",
              "      <td>5.31</td>\n",
              "      <td>20.86</td>\n",
              "      <td>BRL</td>\n",
              "    </tr>\n",
              "    <tr>\n",
              "      <th>2</th>\n",
              "      <td>458</td>\n",
              "      <td>VIP</td>\n",
              "      <td>COMPLETED</td>\n",
              "      <td>2021-01-03 00:23:22 +0000 UTC</td>\n",
              "      <td>2021-01-03 00:33:00 +0000 UTC</td>\n",
              "      <td>-23.626593</td>\n",
              "      <td>-46.659410</td>\n",
              "      <td>2021-01-03 00:50:56 +0000 UTC</td>\n",
              "      <td>-23.559273</td>\n",
              "      <td>-46.666595</td>\n",
              "      <td>5.90</td>\n",
              "      <td>34.23</td>\n",
              "      <td>BRL</td>\n",
              "    </tr>\n",
              "    <tr>\n",
              "      <th>3</th>\n",
              "      <td>458</td>\n",
              "      <td>VIP</td>\n",
              "      <td>COMPLETED</td>\n",
              "      <td>2020-12-11 23:16:33 +0000 UTC</td>\n",
              "      <td>2020-12-11 23:27:32 +0000 UTC</td>\n",
              "      <td>-23.559410</td>\n",
              "      <td>-46.666435</td>\n",
              "      <td>2020-12-12 00:32:47 +0000 UTC</td>\n",
              "      <td>-23.425755</td>\n",
              "      <td>-46.481190</td>\n",
              "      <td>19.74</td>\n",
              "      <td>58.77</td>\n",
              "      <td>BRL</td>\n",
              "    </tr>\n",
              "    <tr>\n",
              "      <th>4</th>\n",
              "      <td>458</td>\n",
              "      <td>VIP</td>\n",
              "      <td>COMPLETED</td>\n",
              "      <td>2020-12-11 00:35:46 +0000 UTC</td>\n",
              "      <td>2020-12-11 00:46:46 +0000 UTC</td>\n",
              "      <td>-23.584846</td>\n",
              "      <td>-46.663590</td>\n",
              "      <td>2020-12-11 00:57:57 +0000 UTC</td>\n",
              "      <td>-23.559261</td>\n",
              "      <td>-46.666510</td>\n",
              "      <td>2.54</td>\n",
              "      <td>12.63</td>\n",
              "      <td>BRL</td>\n",
              "    </tr>\n",
              "  </tbody>\n",
              "</table>\n",
              "</div>\n",
              "      <button class=\"colab-df-convert\" onclick=\"convertToInteractive('df-c6e0cd07-4998-4479-93d6-e1cf7b770a45')\"\n",
              "              title=\"Convert this dataframe to an interactive table.\"\n",
              "              style=\"display:none;\">\n",
              "        \n",
              "  <svg xmlns=\"http://www.w3.org/2000/svg\" height=\"24px\"viewBox=\"0 0 24 24\"\n",
              "       width=\"24px\">\n",
              "    <path d=\"M0 0h24v24H0V0z\" fill=\"none\"/>\n",
              "    <path d=\"M18.56 5.44l.94 2.06.94-2.06 2.06-.94-2.06-.94-.94-2.06-.94 2.06-2.06.94zm-11 1L8.5 8.5l.94-2.06 2.06-.94-2.06-.94L8.5 2.5l-.94 2.06-2.06.94zm10 10l.94 2.06.94-2.06 2.06-.94-2.06-.94-.94-2.06-.94 2.06-2.06.94z\"/><path d=\"M17.41 7.96l-1.37-1.37c-.4-.4-.92-.59-1.43-.59-.52 0-1.04.2-1.43.59L10.3 9.45l-7.72 7.72c-.78.78-.78 2.05 0 2.83L4 21.41c.39.39.9.59 1.41.59.51 0 1.02-.2 1.41-.59l7.78-7.78 2.81-2.81c.8-.78.8-2.07 0-2.86zM5.41 20L4 18.59l7.72-7.72 1.47 1.35L5.41 20z\"/>\n",
              "  </svg>\n",
              "      </button>\n",
              "      \n",
              "  <style>\n",
              "    .colab-df-container {\n",
              "      display:flex;\n",
              "      flex-wrap:wrap;\n",
              "      gap: 12px;\n",
              "    }\n",
              "\n",
              "    .colab-df-convert {\n",
              "      background-color: #E8F0FE;\n",
              "      border: none;\n",
              "      border-radius: 50%;\n",
              "      cursor: pointer;\n",
              "      display: none;\n",
              "      fill: #1967D2;\n",
              "      height: 32px;\n",
              "      padding: 0 0 0 0;\n",
              "      width: 32px;\n",
              "    }\n",
              "\n",
              "    .colab-df-convert:hover {\n",
              "      background-color: #E2EBFA;\n",
              "      box-shadow: 0px 1px 2px rgba(60, 64, 67, 0.3), 0px 1px 3px 1px rgba(60, 64, 67, 0.15);\n",
              "      fill: #174EA6;\n",
              "    }\n",
              "\n",
              "    [theme=dark] .colab-df-convert {\n",
              "      background-color: #3B4455;\n",
              "      fill: #D2E3FC;\n",
              "    }\n",
              "\n",
              "    [theme=dark] .colab-df-convert:hover {\n",
              "      background-color: #434B5C;\n",
              "      box-shadow: 0px 1px 3px 1px rgba(0, 0, 0, 0.15);\n",
              "      filter: drop-shadow(0px 1px 2px rgba(0, 0, 0, 0.3));\n",
              "      fill: #FFFFFF;\n",
              "    }\n",
              "  </style>\n",
              "\n",
              "      <script>\n",
              "        const buttonEl =\n",
              "          document.querySelector('#df-c6e0cd07-4998-4479-93d6-e1cf7b770a45 button.colab-df-convert');\n",
              "        buttonEl.style.display =\n",
              "          google.colab.kernel.accessAllowed ? 'block' : 'none';\n",
              "\n",
              "        async function convertToInteractive(key) {\n",
              "          const element = document.querySelector('#df-c6e0cd07-4998-4479-93d6-e1cf7b770a45');\n",
              "          const dataTable =\n",
              "            await google.colab.kernel.invokeFunction('convertToInteractive',\n",
              "                                                     [key], {});\n",
              "          if (!dataTable) return;\n",
              "\n",
              "          const docLinkHtml = 'Like what you see? Visit the ' +\n",
              "            '<a target=\"_blank\" href=https://colab.research.google.com/notebooks/data_table.ipynb>data table notebook</a>'\n",
              "            + ' to learn more about interactive tables.';\n",
              "          element.innerHTML = '';\n",
              "          dataTable['output_type'] = 'display_data';\n",
              "          await google.colab.output.renderOutput(dataTable, element);\n",
              "          const docLink = document.createElement('div');\n",
              "          docLink.innerHTML = docLinkHtml;\n",
              "          element.appendChild(docLink);\n",
              "        }\n",
              "      </script>\n",
              "    </div>\n",
              "  </div>\n",
              "  "
            ]
          },
          "metadata": {},
          "execution_count": 8
        }
      ]
    },
    {
      "cell_type": "code",
      "source": [
        "#Dataset information\n",
        "rides.info()"
      ],
      "metadata": {
        "colab": {
          "base_uri": "https://localhost:8080/"
        },
        "id": "8laQx0Tw-FeE",
        "outputId": "47c5e969-8d2e-4155-f47b-79f5592e03bf"
      },
      "execution_count": null,
      "outputs": [
        {
          "output_type": "stream",
          "name": "stdout",
          "text": [
            "<class 'pandas.core.frame.DataFrame'>\n",
            "RangeIndex: 554 entries, 0 to 553\n",
            "Data columns (total 13 columns):\n",
            " #   Column                Non-Null Count  Dtype  \n",
            "---  ------                --------------  -----  \n",
            " 0   City                  554 non-null    int64  \n",
            " 1   Product Type          551 non-null    object \n",
            " 2   Trip or Order Status  554 non-null    object \n",
            " 3   Request Time          554 non-null    object \n",
            " 4   Begin Trip Time       554 non-null    object \n",
            " 5   Begin Trip Lat        525 non-null    float64\n",
            " 6   Begin Trip Lng        525 non-null    float64\n",
            " 7   Dropoff Time          554 non-null    object \n",
            " 8   Dropoff Lat           525 non-null    float64\n",
            " 9   Dropoff Lng           525 non-null    float64\n",
            " 10  Distance (miles)      554 non-null    float64\n",
            " 11  Fare Amount           554 non-null    float64\n",
            " 12  Fare Currency         551 non-null    object \n",
            "dtypes: float64(6), int64(1), object(6)\n",
            "memory usage: 56.4+ KB\n"
          ]
        }
      ]
    },
    {
      "cell_type": "code",
      "source": [
        "#.rename( ) method allows you to rename axis labels (indexes and columns).\n",
        "#In this case, I decided to normalize column names to clean up coding, since I could later call columns easily typing <data_frame>.<column>\n",
        "\n",
        "rides.rename(columns={'Trip or Order Status': 'status', 'Request Time': 'request_time','Product Type':'product_type','Begin Trip Time':'begin_time',\n",
        "                      'Begin Trip Lat':'begin_lat','Begin Trip Lng':'begin_lng','Dropoff Time':'dropoff_time','Dropoff Lat':'dropoff_lat',\n",
        "                      'Dropoff Lng':'dropoff_lng','Distance (miles)':'distance_miles','Fare Amount':'fare_amount',\n",
        "                      'Fare Currency':'fare_currency','City':'city'}, inplace=True)"
      ],
      "metadata": {
        "id": "yEPxIjZCBpDb"
      },
      "execution_count": null,
      "outputs": []
    },
    {
      "cell_type": "markdown",
      "source": [
        "Taking a look at the continuous variables, we notice the presence of some outliers. However, these outliers do not seem to reflect any abnormal value (e.g. fare_amount = 1000 BRL), which may let us a little bit more comfortable.\n",
        "\n",
        "P.S. In case abnormal values are found, some treatment should be probably considered (e.g. outliers replacement/removal)."
      ],
      "metadata": {
        "id": "U4G6qbBmTrx3"
      }
    },
    {
      "cell_type": "code",
      "source": [
        "#creating an additional dataframe without Uber EATS records (out of analysis scope)\n",
        "df1 = rides[rides.product_type!='UberEATS Marketplace'][['distance_miles','fare_amount']]\n",
        "\n",
        "print(df1.describe().transpose().round(1));\n",
        "df1.boxplot(grid=False);"
      ],
      "metadata": {
        "colab": {
          "base_uri": "https://localhost:8080/",
          "height": 318
        },
        "id": "XCir2tKPCS3l",
        "outputId": "c425bf87-3462-4e0d-e2cd-823c25b37c50"
      },
      "execution_count": null,
      "outputs": [
        {
          "output_type": "stream",
          "name": "stdout",
          "text": [
            "                count  mean   std  min  25%   50%   75%   max\n",
            "distance_miles  544.0   4.1   3.8  0.0  1.2   3.4   6.0  19.7\n",
            "fare_amount     544.0  15.8  11.6  0.0  7.8  14.4  24.3  58.8\n"
          ]
        },
        {
          "output_type": "display_data",
          "data": {
            "text/plain": [
              "<Figure size 432x288 with 1 Axes>"
            ],
            "image/png": "[encoded data removed]"
          },
          "metadata": {
            "needs_background": "light"
          }
        }
      ]
    },
    {
      "cell_type": "code",
      "source": [
        "sns.scatterplot(x='distance_miles',y='fare_amount',data=df1);"
      ],
      "metadata": {
        "colab": {
          "base_uri": "https://localhost:8080/",
          "height": 280
        },
        "id": "-R8meY2F-N6I",
        "outputId": "c3065c1f-fdc2-49a7-f6e8-5786e847c4e7"
      },
      "execution_count": null,
      "outputs": [
        {
          "output_type": "display_data",
          "data": {
            "text/plain": [
              "<Figure size 432x288 with 1 Axes>"
            ],
            "image/png": "[encoded data removed]"
          },
          "metadata": {
            "needs_background": "light"
          }
        }
      ]
    },
    {
      "cell_type": "code",
      "source": [
        "rides.pop('fare_currency');"
      ],
      "metadata": {
        "id": "NDXgdFRG-RiY"
      },
      "execution_count": null,
      "outputs": []
    },
    {
      "cell_type": "code",
      "source": [
        "rides[rides.product_type.isnull()]"
      ],
      "metadata": {
        "colab": {
          "base_uri": "https://localhost:8080/",
          "height": 292
        },
        "id": "wIY3bPwnMARN",
        "outputId": "f2a1e3b1-772a-4ab5-ca1d-de12424129a7"
      },
      "execution_count": null,
      "outputs": [
        {
          "output_type": "execute_result",
          "data": {
            "text/plain": [
              "     city product_type       status                   request_time  \\\n",
              "281   458          NaN  UNFULFILLED  2018-05-26 18:36:51 +0000 UTC   \n",
              "362  1449          NaN  UNFULFILLED  2018-02-13 01:59:25 +0000 UTC   \n",
              "392  1449          NaN  UNFULFILLED  2018-01-01 04:44:10 +0000 UTC   \n",
              "\n",
              "                        begin_time  begin_lat  begin_lng  \\\n",
              "281  1970-01-01 00:00:00 +0000 UTC        NaN        NaN   \n",
              "362  1970-01-01 00:00:00 +0000 UTC        NaN        NaN   \n",
              "392  1970-01-01 00:00:00 +0000 UTC        NaN        NaN   \n",
              "\n",
              "                      dropoff_time  dropoff_lat  dropoff_lng  distance_miles  \\\n",
              "281  1970-01-01 00:00:00 +0000 UTC          NaN          NaN             0.0   \n",
              "362  1970-01-01 00:00:00 +0000 UTC          NaN          NaN             0.0   \n",
              "392  1970-01-01 00:00:00 +0000 UTC          NaN          NaN             0.0   \n",
              "\n",
              "     fare_amount  \n",
              "281          0.0  \n",
              "362          0.0  \n",
              "392          0.0  "
            ],
            "text/html": [
              "\n",
              "  <div id=\"df-41325e98-04ee-4d0c-a81e-f98f49aa84c0\">\n",
              "    <div class=\"colab-df-container\">\n",
              "      <div>\n",
              "<style scoped>\n",
              "    .dataframe tbody tr th:only-of-type {\n",
              "        vertical-align: middle;\n",
              "    }\n",
              "\n",
              "    .dataframe tbody tr th {\n",
              "        vertical-align: top;\n",
              "    }\n",
              "\n",
              "    .dataframe thead th {\n",
              "        text-align: right;\n",
              "    }\n",
              "</style>\n",
              "<table border=\"1\" class=\"dataframe\">\n",
              "  <thead>\n",
              "    <tr style=\"text-align: right;\">\n",
              "      <th></th>\n",
              "      <th>city</th>\n",
              "      <th>product_type</th>\n",
              "      <th>status</th>\n",
              "      <th>request_time</th>\n",
              "      <th>begin_time</th>\n",
              "      <th>begin_lat</th>\n",
              "      <th>begin_lng</th>\n",
              "      <th>dropoff_time</th>\n",
              "      <th>dropoff_lat</th>\n",
              "      <th>dropoff_lng</th>\n",
              "      <th>distance_miles</th>\n",
              "      <th>fare_amount</th>\n",
              "    </tr>\n",
              "  </thead>\n",
              "  <tbody>\n",
              "    <tr>\n",
              "      <th>281</th>\n",
              "      <td>458</td>\n",
              "      <td>NaN</td>\n",
              "      <td>UNFULFILLED</td>\n",
              "      <td>2018-05-26 18:36:51 +0000 UTC</td>\n",
              "      <td>1970-01-01 00:00:00 +0000 UTC</td>\n",
              "      <td>NaN</td>\n",
              "      <td>NaN</td>\n",
              "      <td>1970-01-01 00:00:00 +0000 UTC</td>\n",
              "      <td>NaN</td>\n",
              "      <td>NaN</td>\n",
              "      <td>0.0</td>\n",
              "      <td>0.0</td>\n",
              "    </tr>\n",
              "    <tr>\n",
              "      <th>362</th>\n",
              "      <td>1449</td>\n",
              "      <td>NaN</td>\n",
              "      <td>UNFULFILLED</td>\n",
              "      <td>2018-02-13 01:59:25 +0000 UTC</td>\n",
              "      <td>1970-01-01 00:00:00 +0000 UTC</td>\n",
              "      <td>NaN</td>\n",
              "      <td>NaN</td>\n",
              "      <td>1970-01-01 00:00:00 +0000 UTC</td>\n",
              "      <td>NaN</td>\n",
              "      <td>NaN</td>\n",
              "      <td>0.0</td>\n",
              "      <td>0.0</td>\n",
              "    </tr>\n",
              "    <tr>\n",
              "      <th>392</th>\n",
              "      <td>1449</td>\n",
              "      <td>NaN</td>\n",
              "      <td>UNFULFILLED</td>\n",
              "      <td>2018-01-01 04:44:10 +0000 UTC</td>\n",
              "      <td>1970-01-01 00:00:00 +0000 UTC</td>\n",
              "      <td>NaN</td>\n",
              "      <td>NaN</td>\n",
              "      <td>1970-01-01 00:00:00 +0000 UTC</td>\n",
              "      <td>NaN</td>\n",
              "      <td>NaN</td>\n",
              "      <td>0.0</td>\n",
              "      <td>0.0</td>\n",
              "    </tr>\n",
              "  </tbody>\n",
              "</table>\n",
              "</div>\n",
              "      <button class=\"colab-df-convert\" onclick=\"convertToInteractive('df-41325e98-04ee-4d0c-a81e-f98f49aa84c0')\"\n",
              "              title=\"Convert this dataframe to an interactive table.\"\n",
              "              style=\"display:none;\">\n",
              "        \n",
              "  <svg xmlns=\"http://www.w3.org/2000/svg\" height=\"24px\"viewBox=\"0 0 24 24\"\n",
              "       width=\"24px\">\n",
              "    <path d=\"M0 0h24v24H0V0z\" fill=\"none\"/>\n",
              "    <path d=\"M18.56 5.44l.94 2.06.94-2.06 2.06-.94-2.06-.94-.94-2.06-.94 2.06-2.06.94zm-11 1L8.5 8.5l.94-2.06 2.06-.94-2.06-.94L8.5 2.5l-.94 2.06-2.06.94zm10 10l.94 2.06.94-2.06 2.06-.94-2.06-.94-.94-2.06-.94 2.06-2.06.94z\"/><path d=\"M17.41 7.96l-1.37-1.37c-.4-.4-.92-.59-1.43-.59-.52 0-1.04.2-1.43.59L10.3 9.45l-7.72 7.72c-.78.78-.78 2.05 0 2.83L4 21.41c.39.39.9.59 1.41.59.51 0 1.02-.2 1.41-.59l7.78-7.78 2.81-2.81c.8-.78.8-2.07 0-2.86zM5.41 20L4 18.59l7.72-7.72 1.47 1.35L5.41 20z\"/>\n",
              "  </svg>\n",
              "      </button>\n",
              "      \n",
              "  <style>\n",
              "    .colab-df-container {\n",
              "      display:flex;\n",
              "      flex-wrap:wrap;\n",
              "      gap: 12px;\n",
              "    }\n",
              "\n",
              "    .colab-df-convert {\n",
              "      background-color: #E8F0FE;\n",
              "      border: none;\n",
              "      border-radius: 50%;\n",
              "      cursor: pointer;\n",
              "      display: none;\n",
              "      fill: #1967D2;\n",
              "      height: 32px;\n",
              "      padding: 0 0 0 0;\n",
              "      width: 32px;\n",
              "    }\n",
              "\n",
              "    .colab-df-convert:hover {\n",
              "      background-color: #E2EBFA;\n",
              "      box-shadow: 0px 1px 2px rgba(60, 64, 67, 0.3), 0px 1px 3px 1px rgba(60, 64, 67, 0.15);\n",
              "      fill: #174EA6;\n",
              "    }\n",
              "\n",
              "    [theme=dark] .colab-df-convert {\n",
              "      background-color: #3B4455;\n",
              "      fill: #D2E3FC;\n",
              "    }\n",
              "\n",
              "    [theme=dark] .colab-df-convert:hover {\n",
              "      background-color: #434B5C;\n",
              "      box-shadow: 0px 1px 3px 1px rgba(0, 0, 0, 0.15);\n",
              "      filter: drop-shadow(0px 1px 2px rgba(0, 0, 0, 0.3));\n",
              "      fill: #FFFFFF;\n",
              "    }\n",
              "  </style>\n",
              "\n",
              "      <script>\n",
              "        const buttonEl =\n",
              "          document.querySelector('#df-41325e98-04ee-4d0c-a81e-f98f49aa84c0 button.colab-df-convert');\n",
              "        buttonEl.style.display =\n",
              "          google.colab.kernel.accessAllowed ? 'block' : 'none';\n",
              "\n",
              "        async function convertToInteractive(key) {\n",
              "          const element = document.querySelector('#df-41325e98-04ee-4d0c-a81e-f98f49aa84c0');\n",
              "          const dataTable =\n",
              "            await google.colab.kernel.invokeFunction('convertToInteractive',\n",
              "                                                     [key], {});\n",
              "          if (!dataTable) return;\n",
              "\n",
              "          const docLinkHtml = 'Like what you see? Visit the ' +\n",
              "            '<a target=\"_blank\" href=https://colab.research.google.com/notebooks/data_table.ipynb>data table notebook</a>'\n",
              "            + ' to learn more about interactive tables.';\n",
              "          element.innerHTML = '';\n",
              "          dataTable['output_type'] = 'display_data';\n",
              "          await google.colab.output.renderOutput(dataTable, element);\n",
              "          const docLink = document.createElement('div');\n",
              "          docLink.innerHTML = docLinkHtml;\n",
              "          element.appendChild(docLink);\n",
              "        }\n",
              "      </script>\n",
              "    </div>\n",
              "  </div>\n",
              "  "
            ]
          },
          "metadata": {},
          "execution_count": 27
        }
      ]
    },
    {
      "cell_type": "code",
      "source": [
        "rides.isnull().sum().sort_values(ascending=False)"
      ],
      "metadata": {
        "colab": {
          "base_uri": "https://localhost:8080/"
        },
        "id": "Mv3LIl5FMKP2",
        "outputId": "fe83896b-e19f-42d0-a0e1-db81ab32c1aa"
      },
      "execution_count": null,
      "outputs": [
        {
          "output_type": "execute_result",
          "data": {
            "text/plain": [
              "begin_lat         29\n",
              "begin_lng         29\n",
              "dropoff_lat       29\n",
              "dropoff_lng       29\n",
              "product_type       3\n",
              "city               0\n",
              "status             0\n",
              "request_time       0\n",
              "begin_time         0\n",
              "dropoff_time       0\n",
              "distance_miles     0\n",
              "fare_amount        0\n",
              "dtype: int64"
            ]
          },
          "metadata": {},
          "execution_count": 28
        }
      ]
    },
    {
      "cell_type": "code",
      "source": [
        "rides[rides.product_type.isnull()]"
      ],
      "metadata": {
        "colab": {
          "base_uri": "https://localhost:8080/",
          "height": 292
        },
        "id": "ihJYtSs2Pm6y",
        "outputId": "88e93219-6109-461a-a5f1-c7e32620ad56"
      },
      "execution_count": null,
      "outputs": [
        {
          "output_type": "execute_result",
          "data": {
            "text/plain": [
              "     city product_type       status                   request_time  \\\n",
              "281   458          NaN  UNFULFILLED  2018-05-26 18:36:51 +0000 UTC   \n",
              "362  1449          NaN  UNFULFILLED  2018-02-13 01:59:25 +0000 UTC   \n",
              "392  1449          NaN  UNFULFILLED  2018-01-01 04:44:10 +0000 UTC   \n",
              "\n",
              "                        begin_time  begin_lat  begin_lng  \\\n",
              "281  1970-01-01 00:00:00 +0000 UTC        NaN        NaN   \n",
              "362  1970-01-01 00:00:00 +0000 UTC        NaN        NaN   \n",
              "392  1970-01-01 00:00:00 +0000 UTC        NaN        NaN   \n",
              "\n",
              "                      dropoff_time  dropoff_lat  dropoff_lng  distance_miles  \\\n",
              "281  1970-01-01 00:00:00 +0000 UTC          NaN          NaN             0.0   \n",
              "362  1970-01-01 00:00:00 +0000 UTC          NaN          NaN             0.0   \n",
              "392  1970-01-01 00:00:00 +0000 UTC          NaN          NaN             0.0   \n",
              "\n",
              "     fare_amount  \n",
              "281          0.0  \n",
              "362          0.0  \n",
              "392          0.0  "
            ],
            "text/html": [
              "\n",
              "  <div id=\"df-1bc5a923-28d6-4b7b-87c2-6b00f9211600\">\n",
              "    <div class=\"colab-df-container\">\n",
              "      <div>\n",
              "<style scoped>\n",
              "    .dataframe tbody tr th:only-of-type {\n",
              "        vertical-align: middle;\n",
              "    }\n",
              "\n",
              "    .dataframe tbody tr th {\n",
              "        vertical-align: top;\n",
              "    }\n",
              "\n",
              "    .dataframe thead th {\n",
              "        text-align: right;\n",
              "    }\n",
              "</style>\n",
              "<table border=\"1\" class=\"dataframe\">\n",
              "  <thead>\n",
              "    <tr style=\"text-align: right;\">\n",
              "      <th></th>\n",
              "      <th>city</th>\n",
              "      <th>product_type</th>\n",
              "      <th>status</th>\n",
              "      <th>request_time</th>\n",
              "      <th>begin_time</th>\n",
              "      <th>begin_lat</th>\n",
              "      <th>begin_lng</th>\n",
              "      <th>dropoff_time</th>\n",
              "      <th>dropoff_lat</th>\n",
              "      <th>dropoff_lng</th>\n",
              "      <th>distance_miles</th>\n",
              "      <th>fare_amount</th>\n",
              "    </tr>\n",
              "  </thead>\n",
              "  <tbody>\n",
              "    <tr>\n",
              "      <th>281</th>\n",
              "      <td>458</td>\n",
              "      <td>NaN</td>\n",
              "      <td>UNFULFILLED</td>\n",
              "      <td>2018-05-26 18:36:51 +0000 UTC</td>\n",
              "      <td>1970-01-01 00:00:00 +0000 UTC</td>\n",
              "      <td>NaN</td>\n",
              "      <td>NaN</td>\n",
              "      <td>1970-01-01 00:00:00 +0000 UTC</td>\n",
              "      <td>NaN</td>\n",
              "      <td>NaN</td>\n",
              "      <td>0.0</td>\n",
              "      <td>0.0</td>\n",
              "    </tr>\n",
              "    <tr>\n",
              "      <th>362</th>\n",
              "      <td>1449</td>\n",
              "      <td>NaN</td>\n",
              "      <td>UNFULFILLED</td>\n",
              "      <td>2018-02-13 01:59:25 +0000 UTC</td>\n",
              "      <td>1970-01-01 00:00:00 +0000 UTC</td>\n",
              "      <td>NaN</td>\n",
              "      <td>NaN</td>\n",
              "      <td>1970-01-01 00:00:00 +0000 UTC</td>\n",
              "      <td>NaN</td>\n",
              "      <td>NaN</td>\n",
              "      <td>0.0</td>\n",
              "      <td>0.0</td>\n",
              "    </tr>\n",
              "    <tr>\n",
              "      <th>392</th>\n",
              "      <td>1449</td>\n",
              "      <td>NaN</td>\n",
              "      <td>UNFULFILLED</td>\n",
              "      <td>2018-01-01 04:44:10 +0000 UTC</td>\n",
              "      <td>1970-01-01 00:00:00 +0000 UTC</td>\n",
              "      <td>NaN</td>\n",
              "      <td>NaN</td>\n",
              "      <td>1970-01-01 00:00:00 +0000 UTC</td>\n",
              "      <td>NaN</td>\n",
              "      <td>NaN</td>\n",
              "      <td>0.0</td>\n",
              "      <td>0.0</td>\n",
              "    </tr>\n",
              "  </tbody>\n",
              "</table>\n",
              "</div>\n",
              "      <button class=\"colab-df-convert\" onclick=\"convertToInteractive('df-1bc5a923-28d6-4b7b-87c2-6b00f9211600')\"\n",
              "              title=\"Convert this dataframe to an interactive table.\"\n",
              "              style=\"display:none;\">\n",
              "        \n",
              "  <svg xmlns=\"http://www.w3.org/2000/svg\" height=\"24px\"viewBox=\"0 0 24 24\"\n",
              "       width=\"24px\">\n",
              "    <path d=\"M0 0h24v24H0V0z\" fill=\"none\"/>\n",
              "    <path d=\"M18.56 5.44l.94 2.06.94-2.06 2.06-.94-2.06-.94-.94-2.06-.94 2.06-2.06.94zm-11 1L8.5 8.5l.94-2.06 2.06-.94-2.06-.94L8.5 2.5l-.94 2.06-2.06.94zm10 10l.94 2.06.94-2.06 2.06-.94-2.06-.94-.94-2.06-.94 2.06-2.06.94z\"/><path d=\"M17.41 7.96l-1.37-1.37c-.4-.4-.92-.59-1.43-.59-.52 0-1.04.2-1.43.59L10.3 9.45l-7.72 7.72c-.78.78-.78 2.05 0 2.83L4 21.41c.39.39.9.59 1.41.59.51 0 1.02-.2 1.41-.59l7.78-7.78 2.81-2.81c.8-.78.8-2.07 0-2.86zM5.41 20L4 18.59l7.72-7.72 1.47 1.35L5.41 20z\"/>\n",
              "  </svg>\n",
              "      </button>\n",
              "      \n",
              "  <style>\n",
              "    .colab-df-container {\n",
              "      display:flex;\n",
              "      flex-wrap:wrap;\n",
              "      gap: 12px;\n",
              "    }\n",
              "\n",
              "    .colab-df-convert {\n",
              "      background-color: #E8F0FE;\n",
              "      border: none;\n",
              "      border-radius: 50%;\n",
              "      cursor: pointer;\n",
              "      display: none;\n",
              "      fill: #1967D2;\n",
              "      height: 32px;\n",
              "      padding: 0 0 0 0;\n",
              "      width: 32px;\n",
              "    }\n",
              "\n",
              "    .colab-df-convert:hover {\n",
              "      background-color: #E2EBFA;\n",
              "      box-shadow: 0px 1px 2px rgba(60, 64, 67, 0.3), 0px 1px 3px 1px rgba(60, 64, 67, 0.15);\n",
              "      fill: #174EA6;\n",
              "    }\n",
              "\n",
              "    [theme=dark] .colab-df-convert {\n",
              "      background-color: #3B4455;\n",
              "      fill: #D2E3FC;\n",
              "    }\n",
              "\n",
              "    [theme=dark] .colab-df-convert:hover {\n",
              "      background-color: #434B5C;\n",
              "      box-shadow: 0px 1px 3px 1px rgba(0, 0, 0, 0.15);\n",
              "      filter: drop-shadow(0px 1px 2px rgba(0, 0, 0, 0.3));\n",
              "      fill: #FFFFFF;\n",
              "    }\n",
              "  </style>\n",
              "\n",
              "      <script>\n",
              "        const buttonEl =\n",
              "          document.querySelector('#df-1bc5a923-28d6-4b7b-87c2-6b00f9211600 button.colab-df-convert');\n",
              "        buttonEl.style.display =\n",
              "          google.colab.kernel.accessAllowed ? 'block' : 'none';\n",
              "\n",
              "        async function convertToInteractive(key) {\n",
              "          const element = document.querySelector('#df-1bc5a923-28d6-4b7b-87c2-6b00f9211600');\n",
              "          const dataTable =\n",
              "            await google.colab.kernel.invokeFunction('convertToInteractive',\n",
              "                                                     [key], {});\n",
              "          if (!dataTable) return;\n",
              "\n",
              "          const docLinkHtml = 'Like what you see? Visit the ' +\n",
              "            '<a target=\"_blank\" href=https://colab.research.google.com/notebooks/data_table.ipynb>data table notebook</a>'\n",
              "            + ' to learn more about interactive tables.';\n",
              "          element.innerHTML = '';\n",
              "          dataTable['output_type'] = 'display_data';\n",
              "          await google.colab.output.renderOutput(dataTable, element);\n",
              "          const docLink = document.createElement('div');\n",
              "          docLink.innerHTML = docLinkHtml;\n",
              "          element.appendChild(docLink);\n",
              "        }\n",
              "      </script>\n",
              "    </div>\n",
              "  </div>\n",
              "  "
            ]
          },
          "metadata": {},
          "execution_count": 29
        }
      ]
    },
    {
      "cell_type": "code",
      "source": [
        "rides.dropna(subset = ['product_type'], inplace=True)"
      ],
      "metadata": {
        "id": "uupH-1KqPpZR"
      },
      "execution_count": null,
      "outputs": []
    },
    {
      "cell_type": "code",
      "source": [
        "# Checking categories in product_type column\n",
        "print(rides.product_type.value_counts())\n",
        "\n",
        "# Categories reclassification\n",
        "product_mapping = {'UberX':'UberX','uberX':'UberX','uberX VIP':'UberX','VIP':'UberX','POOL':'Pool','POOL: MATCHED':'Pool','UberBLACK': 'Black',\n",
        "                   'uberx':'UberX','uberPOOL':'Pool','uberPOOL: MATCHED':'Pool','Pool: MATCHED':'Pool'}\n",
        "\n",
        "# New categories replacement\n",
        "rides['product_type'].replace(product_mapping, inplace=True)\n",
        "\n",
        "# Checking new categories in product_type column\n",
        "print(rides.product_type.value_counts())"
      ],
      "metadata": {
        "colab": {
          "base_uri": "https://localhost:8080/"
        },
        "id": "c257cbNQPr41",
        "outputId": "a0dac58a-243a-4751-dd22-dc810255bc60"
      },
      "execution_count": null,
      "outputs": [
        {
          "output_type": "stream",
          "name": "stdout",
          "text": [
            "UberX                   169\n",
            "uberX                   144\n",
            "uberX VIP                81\n",
            "VIP                      71\n",
            "POOL                     36\n",
            "Pool                     12\n",
            "UberEATS Marketplace     10\n",
            "POOL: MATCHED             8\n",
            "uberPOOL: MATCHED         5\n",
            "uberPOOL                  5\n",
            "Pool: MATCHED             4\n",
            "Black                     3\n",
            "Juntos                    1\n",
            "UberBLACK                 1\n",
            "uberx                     1\n",
            "Name: product_type, dtype: int64\n",
            "UberX                   466\n",
            "Pool                     70\n",
            "UberEATS Marketplace     10\n",
            "Black                     4\n",
            "Juntos                    1\n",
            "Name: product_type, dtype: int64\n"
          ]
        }
      ]
    },
    {
      "cell_type": "code",
      "source": [
        "rides = rides[rides.product_type!='UberEATS Marketplace']"
      ],
      "metadata": {
        "id": "feR_HVufPvAw"
      },
      "execution_count": null,
      "outputs": []
    },
    {
      "cell_type": "code",
      "source": [
        "rides.status.value_counts()"
      ],
      "metadata": {
        "colab": {
          "base_uri": "https://localhost:8080/"
        },
        "id": "O4L3QqrMPyDI",
        "outputId": "8dd7f6f0-58f6-4e4e-92ff-0c21346aa7d0"
      },
      "execution_count": null,
      "outputs": [
        {
          "output_type": "execute_result",
          "data": {
            "text/plain": [
              "COMPLETED          444\n",
              "CANCELED            87\n",
              "DRIVER_CANCELED     10\n",
              "Name: status, dtype: int64"
            ]
          },
          "metadata": {},
          "execution_count": 33
        }
      ]
    },
    {
      "cell_type": "code",
      "source": [
        "# Library for manipulating dates and times\n",
        "from datetime import datetime\n",
        "from datetime import timedelta\n",
        "\n",
        "# Function to convert features to datetime\n",
        "def date_convertion(df, cols):\n",
        "\n",
        "  for col in cols:\n",
        "    df[col] = df[col].apply(lambda x: x.replace(' +0000 UTC', ''))\n",
        "    df[col] = pd.to_datetime(df[col])\n",
        "    \n",
        "  return df\n",
        "\n",
        "# Applying date_convertion function to date features \n",
        "rides = date_convertion(rides, ['request_time', 'begin_time', 'dropoff_time'])"
      ],
      "metadata": {
        "id": "Atoimp1xPzmI"
      },
      "execution_count": null,
      "outputs": []
    },
    {
      "cell_type": "code",
      "source": [
        "rides['year'] = rides.request_time.map(lambda x: datetime.strftime(x,\"%Y\"))\n",
        "rides['month'] = rides.request_time.map(lambda x: datetime.strftime(x,\"%b\"))\n",
        "rides['weekday'] = rides.request_time.map(lambda x: datetime.strftime(x,\"%a\"))\n",
        "rides['time'] = rides.request_time.map(lambda x: datetime.strftime(x,\"%H:%M\"))"
      ],
      "metadata": {
        "id": "zEIA80pyP3NI"
      },
      "execution_count": null,
      "outputs": []
    },
    {
      "cell_type": "code",
      "source": [
        "rides['distance_km'] = round(rides.distance_miles*1.60934,2)\n",
        "rides['amount_km'] = round(rides.fare_amount/rides.distance_km,2)"
      ],
      "metadata": {
        "id": "Zz78HhxWP6pG"
      },
      "execution_count": null,
      "outputs": []
    },
    {
      "cell_type": "code",
      "source": [
        "rides['request_lead_time'] = rides.begin_time - rides.request_time\n",
        "rides['request_lead_time'] = rides['request_lead_time'].apply(lambda x: round(x.total_seconds()/60,1))"
      ],
      "metadata": {
        "id": "xnoGYfunP87i"
      },
      "execution_count": null,
      "outputs": []
    },
    {
      "cell_type": "code",
      "source": [
        "rides['trip_duration'] = rides.dropoff_time - rides.begin_time\n",
        "rides['trip_duration'] = rides['trip_duration'].apply(lambda x: round(x.total_seconds()/60,1))"
      ],
      "metadata": {
        "id": "uTBRyACCP_GJ"
      },
      "execution_count": null,
      "outputs": []
    },
    {
      "cell_type": "code",
      "source": [
        "rides.loc[(rides.status == 'CANCELED') | (rides.status == 'DRIVER_CANCELED'),'request_lead_time']=np.nan\n",
        "rides.loc[(rides.status == 'CANCELED') | (rides.status == 'DRIVER_CANCELED'),'amount_km']=np.nan\n",
        "rides.loc[(rides.status == 'CANCELED') | (rides.status == 'DRIVER_CANCELED'),['begin_time','dropoff_time']]= np.nan"
      ],
      "metadata": {
        "id": "fmieybaZQBzf"
      },
      "execution_count": null,
      "outputs": []
    },
    {
      "cell_type": "code",
      "source": [
        "completed_rides = rides[(rides.status!='CANCELED')&(rides.status!='DRIVER_CANCELED')]"
      ],
      "metadata": {
        "id": "GybvFaQdQDsK"
      },
      "execution_count": null,
      "outputs": []
    },
    {
      "cell_type": "code",
      "source": [
        "print('Total trips: ', completed_rides.status.count())\n",
        "print(completed_rides.year.value_counts().sort_index(ascending=True))\n",
        "sns.countplot(data=completed_rides, x='year',order=['2016','2017','2018','2019','2020','2021'], palette='pastel');\n"
      ],
      "metadata": {
        "colab": {
          "base_uri": "https://localhost:8080/",
          "height": 418
        },
        "id": "lWltLoVPQG9j",
        "outputId": "39732f9c-ddeb-436c-a889-3c0547372d45"
      },
      "execution_count": null,
      "outputs": [
        {
          "output_type": "stream",
          "name": "stdout",
          "text": [
            "Total trips:  444\n",
            "2016     17\n",
            "2017    120\n",
            "2018    146\n",
            "2019    106\n",
            "2020     52\n",
            "2021      3\n",
            "Name: year, dtype: int64\n"
          ]
        },
        {
          "output_type": "display_data",
          "data": {
            "text/plain": [
              "<Figure size 432x288 with 1 Axes>"
            ],
            "image/png": "[encoded data removed]"
          },
          "metadata": {
            "needs_background": "light"
          }
        }
      ]
    },
    {
      "cell_type": "code",
      "source": [
        "print('Total trips: ', rides.status.count())\n",
        "print(round(rides.status.value_counts()/rides.status.size*100,1))\n",
        "\n",
        "#sns.countplot(data=rides, x='year', order=['2015','2016','2017','2018','2019','2020','2021'], hue='status', palette='coolwarm');\n",
        "rides.groupby(by=['year'])['status'].value_counts(normalize=True).unstack('status').plot.bar(stacked=True);"
      ],
      "metadata": {
        "colab": {
          "base_uri": "https://localhost:8080/",
          "height": 382
        },
        "id": "MXXjygveQKKJ",
        "outputId": "8e7e493d-8c69-4bf3-ed98-0cb7d46c73bf"
      },
      "execution_count": null,
      "outputs": [
        {
          "output_type": "stream",
          "name": "stdout",
          "text": [
            "Total trips:  541\n",
            "COMPLETED          82.1\n",
            "CANCELED           16.1\n",
            "DRIVER_CANCELED     1.8\n",
            "Name: status, dtype: float64\n"
          ]
        },
        {
          "output_type": "display_data",
          "data": {
            "text/plain": [
              "<Figure size 432x288 with 1 Axes>"
            ],
            "image/png": "[encoded data removed]"
          },
          "metadata": {
            "needs_background": "light"
          }
        }
      ]
    },
    {
      "cell_type": "code",
      "source": [
        "import folium\n",
        "from folium import plugins\n",
        "\n",
        "coord=[]\n",
        "for lat,lng in zip(completed_rides.dropoff_lat.values,completed_rides.dropoff_lng.values):\n",
        "  coord.append([lat,lng])\n",
        "\n",
        "map = folium.Map(\n",
        "    location=[-23.5489,-46.6388],\n",
        "    tiles='Stamen Terrain',\n",
        "    zoom_start=7,\n",
        "    width='80%', \n",
        "    height='50%',\n",
        "    control_scale=True)\n",
        "\n",
        "map.add_child(plugins.HeatMap(coord))\n",
        "        \n",
        "map"
      ],
      "metadata": {
        "colab": {
          "base_uri": "https://localhost:8080/",
          "height": 782
        },
        "id": "4Bm52u3RQN7G",
        "outputId": "2b949529-6c63-4dae-8ddf-42dca700d31d"
      },
      "execution_count": null,
      "outputs": [
        {
          "output_type": "execute_result",
          "data": {
            "text/plain": [
              "<folium.folium.Map at 0x7f936bd9e950>"
            ],
            "text/html": [
              "<div style=\"width:100%;\"><div style=\"position:relative;width:100%;height:0;padding-bottom:60%;\"><span style=\"color:#565656\">Make this Notebook Trusted to load map: File -> Trust Notebook</span><iframe srcdoc=\"&lt;!DOCTYPE html&gt;\n",
              "&lt;head&gt;    \n",
              "    &lt;meta http-equiv=&quot;content-type&quot; content=&quot;text/html; charset=UTF-8&quot; /&gt;\n",
              "    \n",
              "        &lt;script&gt;\n",
              "            L_NO_TOUCH = false;\n",
              "            L_DISABLE_3D = false;\n",
              "        &lt;/script&gt;\n",
              "    \n",
              "    &lt;style&gt;html, body {width: 100%;height: 100%;margin: 0;padding: 0;}&lt;/style&gt;\n",
              "    &lt;style&gt;#map {position:absolute;top:0;bottom:0;right:0;left:0;}&lt;/style&gt;\n",
              "    &lt;script src=&quot;https://cdn.jsdelivr.net/npm/leaflet@1.6.0/dist/leaflet.js&quot;&gt;&lt;/script&gt;\n",
              "    &lt;script src=&quot;https://code.jquery.com/jquery-1.12.4.min.js&quot;&gt;&lt;/script&gt;\n",
              "    &lt;script src=&quot;https://maxcdn.bootstrapcdn.com/bootstrap/3.2.0/js/bootstrap.min.js&quot;&gt;&lt;/script&gt;\n",
              "    &lt;script src=&quot;https://cdnjs.cloudflare.com/ajax/libs/Leaflet.awesome-markers/2.0.2/leaflet.awesome-markers.js&quot;&gt;&lt;/script&gt;\n",
              "    &lt;link rel=&quot;stylesheet&quot; href=&quot;https://cdn.jsdelivr.net/npm/leaflet@1.6.0/dist/leaflet.css&quot;/&gt;\n",
              "    &lt;link rel=&quot;stylesheet&quot; href=&quot;https://maxcdn.bootstrapcdn.com/bootstrap/3.2.0/css/bootstrap.min.css&quot;/&gt;\n",
              "    &lt;link rel=&quot;stylesheet&quot; href=&quot;https://maxcdn.bootstrapcdn.com/bootstrap/3.2.0/css/bootstrap-theme.min.css&quot;/&gt;\n",
              "    &lt;link rel=&quot;stylesheet&quot; href=&quot;https://maxcdn.bootstrapcdn.com/font-awesome/4.6.3/css/font-awesome.min.css&quot;/&gt;\n",
              "    &lt;link rel=&quot;stylesheet&quot; href=&quot;https://cdnjs.cloudflare.com/ajax/libs/Leaflet.awesome-markers/2.0.2/leaflet.awesome-markers.css&quot;/&gt;\n",
              "    &lt;link rel=&quot;stylesheet&quot; href=&quot;https://cdn.jsdelivr.net/gh/python-visualization/folium/folium/templates/leaflet.awesome.rotate.min.css&quot;/&gt;\n",
              "    \n",
              "            &lt;meta name=&quot;viewport&quot; content=&quot;width=device-width,\n",
              "                initial-scale=1.0, maximum-scale=1.0, user-scalable=no&quot; /&gt;\n",
              "            &lt;style&gt;\n",
              "                #map_ebd6a5206e1f67e9825bfca4ffbee5f9 {\n",
              "                    position: relative;\n",
              "                    width: 80.0%;\n",
              "                    height: 50.0%;\n",
              "                    left: 0.0%;\n",
              "                    top: 0.0%;\n",
              "                }\n",
              "            &lt;/style&gt;\n",
              "        \n",
              "    &lt;script src=&quot;https://cdn.jsdelivr.net/gh/python-visualization/folium@master/folium/templates/leaflet_heat.min.js&quot;&gt;&lt;/script&gt;\n",
              "&lt;/head&gt;\n",
              "&lt;body&gt;    \n",
              "    \n",
              "            &lt;div class=&quot;folium-map&quot; id=&quot;map_ebd6a5206e1f67e9825bfca4ffbee5f9&quot; &gt;&lt;/div&gt;\n",
              "        \n",
              "&lt;/body&gt;\n",
              "&lt;script&gt;    \n",
              "    \n",
              "            var map_ebd6a5206e1f67e9825bfca4ffbee5f9 = L.map(\n",
              "                &quot;map_ebd6a5206e1f67e9825bfca4ffbee5f9&quot;,\n",
              "                {\n",
              "                    center: [-23.5489, -46.6388],\n",
              "                    crs: L.CRS.EPSG3857,\n",
              "                    zoom: 7,\n",
              "                    zoomControl: true,\n",
              "                    preferCanvas: false,\n",
              "                }\n",
              "            );\n",
              "            L.control.scale().addTo(map_ebd6a5206e1f67e9825bfca4ffbee5f9);\n",
              "\n",
              "            \n",
              "\n",
              "        \n",
              "    \n",
              "            var tile_layer_bcd9e690127de2935bb36460f4fba7b8 = L.tileLayer(\n",
              "                &quot;https://stamen-tiles-{s}.a.ssl.fastly.net/terrain/{z}/{x}/{y}.jpg&quot;,\n",
              "                {&quot;attribution&quot;: &quot;Map tiles by \\u003ca href=\\&quot;http://stamen.com\\&quot;\\u003eStamen Design\\u003c/a\\u003e, under \\u003ca href=\\&quot;http://creativecommons.org/licenses/by/3.0\\&quot;\\u003eCC BY 3.0\\u003c/a\\u003e. Data by \\u0026copy; \\u003ca href=\\&quot;http://openstreetmap.org\\&quot;\\u003eOpenStreetMap\\u003c/a\\u003e, under \\u003ca href=\\&quot;http://creativecommons.org/licenses/by-sa/3.0\\&quot;\\u003eCC BY SA\\u003c/a\\u003e.&quot;, &quot;detectRetina&quot;: false, &quot;maxNativeZoom&quot;: 18, &quot;maxZoom&quot;: 18, &quot;minZoom&quot;: 0, &quot;noWrap&quot;: false, &quot;opacity&quot;: 1, &quot;subdomains&quot;: &quot;abc&quot;, &quot;tms&quot;: false}\n",
              "            ).addTo(map_ebd6a5206e1f67e9825bfca4ffbee5f9);\n",
              "        \n",
              "    \n",
              "            var heat_map_dc2da12810fbec0dc3cd514261f6e68a = L.heatLayer(\n",
              "                [[-23.559359, -46.666542], [-23.599585, -46.715717], [-23.559273, -46.666595], [-23.425755, -46.48119], [-23.559261, -46.66651], [-23.6245, -46.701077], [-23.559233, -46.666546], [-23.559366, -46.666637], [-23.54775, -46.644104], [-23.559292, -46.66655], [-23.567545, -46.66403], [-23.559343, -46.666496], [-23.566214, -46.675385], [-23.56196, -46.65819], [-23.624607, -46.701088], [-23.55949, -46.66645], [-23.624554, -46.701042], [-23.5593595, -46.6665002], [-23.6245499, -46.7011459], [-23.6245747, -46.701121], [-23.5594793, -46.6664565], [-23.6247021, -46.7009501], [-23.6244897, -46.7009874], [-23.6249448, -46.7013194], [-23.5593722, -46.6664251], [-23.6249106, -46.7006571], [-23.5595624, -46.6665394], [-23.6245325, -46.7010044], [-23.6245682, -46.7009553], [-23.5594719, -46.6664113], [-23.6246338, -46.7009416], [-23.55945, -46.66646], [-23.6245219, -46.7011361], [-23.5897694, -46.6340214], [-23.568199, -46.6481043], [-23.5593779, -46.6664841], [-23.6245191, -46.7010364], [-23.624603, -46.7009155], [-23.6245406, -46.7011174], [-23.624573, -46.7009811], [-23.554227, -46.6560723], [-23.6245017, -46.700992], [-23.6245215, -46.7011146], [-23.6245334, -46.7010361], [-23.6245533, -46.700999], [-23.6245483, -46.7007607], [-23.5592766, -46.6666408], [-23.6245632, -46.7011078], [-23.5592925, -46.6664492], [-23.5593245, -46.6665357], [-23.6245428, -46.7010183], [-23.6244904, -46.7009642], [-23.5593177, -46.6664697], [-23.5897198, -46.6340898], [-23.6247, -46.70114], [-23.5593471, -46.6663865], [-23.5599594, -46.6966915], [-23.6236397, -46.6996955], [-23.5666085, -46.679704], [-23.6246805, -46.700688], [-23.5595676, -46.6651815], [-23.6245537, -46.7009911], [-23.6246039, -46.7011292], [-23.5593657, -46.6664886], [-23.6246512, -46.7012253], [-23.5593573, -46.6666084], [-23.62508, -46.70083], [-23.5591479, -46.6665651], [-23.49942, -46.83712], [-23.5681581, -46.648213], [-23.5513271, -46.6782767], [-23.55944, -46.66647], [-23.6251984, -46.7009311], [-23.6328069, -46.6934561], [-23.559358, -46.6664925], [-23.5897093, -46.6341447], [-23.5838811, -46.6736383], [-23.5630458, -46.6726512], [-23.5593337, -46.6665488], [-23.6112972, -46.5707363], [-23.5898961, -46.6347077], [-23.564655, -46.6803749], [-23.5897394, -46.6339828], [-23.5901449, -46.634857], [-23.5925744, -46.6485508], [-23.6113086, -46.5708697], [-23.61126, -46.57101], [-23.6111714, -46.571065], [-23.6111541, -46.5710089], [-23.5897361, -46.6342802], [-23.5593949, -46.6665817], [-23.5578081, -46.6817216], [-23.6113211, -46.5707727], [-23.6112737, -46.570818], [-23.5896776, -46.6339224], [-23.6114832, -46.570899], [-23.61135, -46.57091], [-23.6113042, -46.5708159], [-23.6113413, -46.5707881], [-23.6113665, -46.5709412], [-23.6114896, -46.5708406], [-23.5594191, -46.6663381], [-23.5688799, -46.6610875], [-23.611196, -46.571191], [-23.6235222, -46.5656995], [-23.61148, -46.57081], [-23.5897059, -46.6340259], [-23.5765285, -46.657221], [-23.6113663, -46.57086], [-23.6234363, -46.5657323], [-23.6114641, -46.570791], [-23.5813131, -46.6805361], [-23.55931, -46.66663], [-23.56342, -46.65128], [-23.5593653, -46.6664751], [-23.6114347, -46.5707262], [-23.6235879, -46.5657363], [-23.6190552, -46.5656031], [-23.611284, -46.5710134], [-23.6114657, -46.5707776], [-23.6113924, -46.570781], [-23.6113489, -46.5708553], [-23.589699, -46.6338321], [-23.5897046, -46.6342625], [-23.5593208, -46.6665461], [-23.499651, -46.6443482], [-23.5897766, -46.6350174], [-23.5718541, -46.6435307], [-23.5897042, -46.6340583], [-23.5592778, -46.6664928], [-23.5897152, -46.6339973], [-23.56548, -46.66629], [-23.5897333, -46.6340835], [-23.6267726, -46.5798585], [-23.6114035, -46.5707249], [-23.5897353, -46.6342724], [-23.5691332, -46.6602163], [-23.5593737, -46.6663778], [-23.5897415, -46.6342876], [-23.589711, -46.6341624], [-23.5899127, -46.6347363], [-23.5552, -46.65715], [-23.5610824, -46.6920423], [-23.5706603, -46.693383], [-23.5897971, -46.634184], [-23.6113438, -46.570978], [-23.5896775, -46.6342089], [-23.5592277, -46.6631332], [-23.58854, -46.67881], [-23.5691248, -46.6612174], [-23.58967, -46.634], [-23.5593764, -46.6631889], [-23.5462117, -46.6486085], [-23.5896768, -46.6341683], [-23.6090984, -46.6666032], [-23.6114817, -46.5706559], [-23.6114035, -46.5708554], [-23.61151, -46.57074], [-23.5592587, -46.66303], [-23.5897222, -46.6341299], [-23.5690166, -46.661077], [-23.5593704, -46.6632237], [-23.5368778, -46.6634445], [-23.6114086, -46.5707626], [-23.5036558, -46.6370967], [-23.5139202, -46.6191831], [-23.5144517, -46.6163633], [-23.5690601, -46.6611127], [-23.5036539, -46.6371543], [-23.5617133, -46.658159], [-23.55575, -46.6552617], [-23.5593646, -46.6632126], [-23.5542748, -46.6561255], [-23.5592926, -46.6631932], [-23.5593606, -46.6631198], [-23.5716401, -46.6882496], [-23.56023173, -46.66414962], [-23.5033043, -46.636905], [-23.6113175, -46.5708262], [-23.5593419, -46.6632209], [-23.5619878, -46.6582328], [-23.6116444, -46.5705324], [-23.5589855, -46.6632146], [-23.61134745, -46.57079129], [-23.5036425, -46.6371866], [-23.6105865, -46.570705], [-23.5036788, -46.637129], [-23.5037043, -46.6327645], [-23.5621533, -46.6578083], [-23.6190601, -46.5656531], [-23.611265, -46.57126], [-23.5690588, -46.6611788], [-23.5035722, -46.6373399], [-23.6111067, -46.5710737], [-23.5034274, -46.637272], [-23.5630296, -46.6670311], [-23.5736364, -46.6556252], [-23.5970083, -46.5748443], [-23.5592227, -46.6632374], [-23.5536201, -46.6942272], [-23.5595104, -46.663229], [-23.503677, -46.6368987], [-23.55945, -46.6632417], [-23.5592518, -46.6630182], [-23.5577831, -46.6898198], [-23.5594317, -46.6633173], [-23.5867741, -46.642758], [-23.6113574, -46.5708662], [-23.5035759, -46.6371187], [-23.61134558, -46.57091107], [-23.503661, -46.6371771], [-23.6113811, -46.5707523], [-23.6114569, -46.5707386], [-23.5036469, -46.6371567], [-23.5032638, -46.6246263], [-23.5592879, -46.6632155], [-23.5036424, -46.6369836], [-23.6113486, -46.5709126], [-23.5601571, -46.6774145], [-23.6111022, -46.57182], [-23.6112414, -46.5708448], [-23.5693051, -46.6599246], [-23.5583273, -46.6605763], [-23.5594438, -46.6633356], [-23.5593885, -46.6632331], [-23.611314, -46.57088793], [-23.5594235, -46.6633392], [-23.5036409, -46.6373103], [-23.5032905, -46.6369492], [-23.5032564, -46.6367743], [-23.5588653, -46.6908072], [-23.6114303, -46.57086], [-23.5834123, -46.6704481], [-23.5035727, -46.63709984], [-23.6234972, -46.5657367], [-23.5033104, -46.6368075], [-23.5618476, -46.6581413], [-23.5032674, -46.6369022], [-23.5034429, -46.6377608], [-23.5578202, -46.689901], [-23.5019996, -46.6273084], [-23.5032578, -46.6367459], [-23.5032054, -46.6370109], [-23.5575996, -46.6895355], [-23.5032828, -46.6368119], [-23.5032569, -46.6370334], [-23.5032128, -46.6379457], [-23.61105, -46.6948029], [-23.6112101, -46.5710416], [-23.6019667, -46.6736382], [-23.5032583, -46.6368603], [-23.5036192, -46.6371554], [-23.5564554, -46.7502916], [-23.5610276, -46.6826267], [-23.5036494, -46.6371391], [-23.5034208, -46.6368915], [-23.5031981, -46.6372663], [-23.5032457, -46.6366457], [-23.6467813, -46.6304311], [-23.5612468, -46.6565113], [-23.503257, -46.6375048], [-23.5032553, -46.6375279], [-23.5032685, -46.6367701], [-23.546632, -46.6042337], [-23.5954224, -46.6907119], [-23.5032237, -46.6370332], [-23.5025158, -46.6364897], [-23.5033975, -46.6366088], [-23.50243945, -46.63649619], [-23.5032727, -46.636787], [-23.5032013, -46.6377976], [-23.5036221, -46.6371587], [-23.6114767, -46.5707417], [-23.503197, -46.6368611], [-23.6111316, -46.5711237], [-23.6234899, -46.5656824], [-23.5032882, -46.6367482], [-23.503291, -46.636849], [-23.5032675, -46.6369339], [-23.5951242, -46.691146], [-23.5595898, -46.6890604], [-23.5032008, -46.6375932], [-23.5032163, -46.6377011], [-23.4321942, -45.068019], [-23.5032193, -46.6377141], [-23.5035504, -46.6374929], [-23.5617439, -46.657929], [-23.5036461, -46.6371739], [-23.5039759, -46.639198], [-23.5181919, -46.6766396], [-23.5035167, -46.637355], [-23.5036583, -46.6368817], [-23.5036722, -46.6372957], [-23.5036414, -46.6367785], [-23.5938773, -46.6912427], [-23.5033387, -46.6372134], [-23.5033095, -46.6372907], [-23.5033634, -46.6369551], [-23.530175, -46.666265], [-23.5036347, -46.637124], [-23.503322, -46.6366226], [-23.4878848, -46.5947091], [-23.5578345, -46.6898763], [-23.503591, -46.6371741], [-23.5823728, -46.6644769], [-23.5616819, -46.658152], [-23.5037175, -46.6371653], [-23.9758385, -46.3011899], [-23.5032566, -46.6371156], [-23.6107181, -46.5702805], [-23.5033627, -46.63673], [-23.503292, -46.6372564], [-23.5032173, -46.6376465], [-23.503255, -46.6373243], [-23.5034308, -46.6364732], [-23.6113615, -46.5708377], [-23.50326, -46.6370583], [-23.9753716, -46.3008707], [-23.9547153, -46.346224], [-23.9757989, -46.301236], [-23.5032583, -46.6372733], [-23.5032044, -46.6368571], [-23.5033071, -46.6370396], [-23.50330782, -46.63752702], [-23.62207, -46.56985], [-23.5032122, -46.637111], [-23.5031903, -46.6368144], [-23.5036026, -46.6373307], [-23.4805317, -46.6064783], [-23.5033132, -46.6366607], [-23.5157182, -46.619488], [-23.503614, -46.6372977], [-23.5032991, -46.6371265], [-23.503618, -46.6373007], [-23.60177075, -46.67760154], [-23.5032867, -46.6366951], [-23.5032866, -46.6368266], [-23.50329369, -46.6367841], [-23.58443324, -46.60516321], [-23.5032916, -46.6371331], [-23.5033033, -46.636945], [-23.5036273, -46.6368185], [-23.503278, -46.6368498], [-23.5033267, -46.6367883], [-23.5033084, -46.6373163], [-23.5032959, -46.6372827], [-23.5032841, -46.6373566], [-23.5031, -46.63692], [-23.503335, -46.636675], [-23.5032604, -46.6367601], [-23.6108178, -46.5702857], [-23.503289, -46.6369199], [-23.6111832, -46.5706626], [-23.5032849, -46.6373822], [-23.6115179, -46.5706344], [-23.5032458, -46.6367602], [-23.5032714, -46.6376718], [-23.6220504, -46.5701294], [-23.5036595, -46.6368117], [-23.6113573, -46.5707287], [-23.5047575, -46.628152], [-23.50331184, -46.63734066], [-23.6037844, -46.6446635], [-23.6112857, -46.5707956], [-23.503144, -46.6368201], [-23.5032976, -46.635072], [-23.6114053, -46.6679377], [-23.5032706, -46.6368144], [-23.5034537, -46.6381879], [-23.5032248, -46.6369166], [-23.5032941, -46.6369395], [-23.5033833, -46.63302], [-23.503285, -46.6379517], [-23.503305, -46.6368483], [-23.5585955, -46.6599003], [-23.5033176, -46.6369607], [-23.5033084, -46.6370028], [-23.6117808, -46.5695641], [-23.6028056, -46.6743477], [-23.6114159, -46.570721], [-23.6110598, -46.5710098], [-23.61111, -46.57121], [-23.61129, -46.5710217], [-23.61133, -46.57136], [-23.6114714, -46.5706741], [-23.6111852, -46.5710471], [-23.6114917, -46.570635], [-23.6111476, -46.571028], [-23.6111476, -46.5709583], [-23.6111639, -46.5708754], [-23.6113337, -46.5707646], [-23.6112529, -46.5710238], [-23.6115989, -46.5706637], [-23.6112042, -46.5710673], [-23.6113167, -46.5708367], [-23.6111309, -46.5712652], [-23.6110929, -46.5711355], [-23.6111595, -46.571014], [-23.6026476, -46.6453556], [-23.6111404, -46.5712019], [-23.6027646, -46.6451823], [-23.565888, -46.6846089], [-23.6111281, -46.5708975], [-23.6111639, -46.5710143], [-23.6109405, -46.5708151], [-23.6110963, -46.5711048], [-23.6111624, -46.5710234], [-23.6111472, -46.5712045], [-23.6110169, -46.5711359], [-23.6111973, -46.5710136], [-23.6025022, -46.6450023], [-23.6111199, -46.5710629], [-23.6112753, -46.5708652], [-23.6113567, -46.5709017], [-23.6110715, -46.5709414], [-23.5976648, -46.6235027], [-23.61124989, -46.57104947], [-23.5740178, -46.6961832], [-23.5934814, -46.6527237], [-23.6205906, -46.6622467], [-23.6027117, -46.6453367], [-23.6110017, -46.5711467], [-23.6111864, -46.5710514], [-23.6029511, -46.645261], [-23.6111339, -46.5717526], [-23.6112239, -46.5710056], [-23.6108462, -46.5714736], [-23.6026436, -46.645322], [-23.61320343, -46.57176448], [-23.6112543, -46.5708784], [-23.6111272, -46.5709949], [-23.61118154, -46.57110295], [-22.9030567, -43.1346819], [-22.9020982, -43.114359], [-23.6026564, -46.6450948], [-23.60262936, -46.64534986], [-23.6026706, -46.6650192], [-23.6110216, -46.571107], [-23.6135612, -46.5763797], [-23.6026544, -46.6453572], [-23.6160678, -46.665922], [-23.6027604, -46.6448974], [-23.6027366, -46.6453516], [-23.5695488, -46.6724122]],\n",
              "                {&quot;blur&quot;: 15, &quot;maxZoom&quot;: 18, &quot;minOpacity&quot;: 0.5, &quot;radius&quot;: 25}\n",
              "            ).addTo(map_ebd6a5206e1f67e9825bfca4ffbee5f9);\n",
              "        \n",
              "&lt;/script&gt;\" style=\"position:absolute;width:100%;height:100%;left:0;top:0;border:none !important;\" allowfullscreen webkitallowfullscreen mozallowfullscreen></iframe></div></div>"
            ]
          },
          "metadata": {},
          "execution_count": 43
        }
      ]
    },
    {
      "cell_type": "code",
      "source": [
        "# Creating a serie with product types count\n",
        "pt_rides = pd.Series(completed_rides.product_type.value_counts().sort_index(ascending=False))\n",
        "# Transforming serie in dataframe\n",
        "df = pd.DataFrame(pt_rides)\n",
        "# Including new column with trips portion\n",
        "df['%'] = (completed_rides.product_type.value_counts().sort_index(ascending=False)/completed_rides.product_type.size*100).round(1)\n",
        "#Renaming columns labels\n",
        "df.rename(columns={'product_type':'Total Rides'}, inplace=True)\n",
        "print(df)\n",
        "# Plotting product types count\n",
        "completed_rides['product_type'].value_counts().plot(kind='bar');"
      ],
      "metadata": {
        "colab": {
          "base_uri": "https://localhost:8080/",
          "height": 355
        },
        "id": "2LfAiYRhSEyT",
        "outputId": "180bf19e-7279-4735-e089-c4a2741a1667"
      },
      "execution_count": null,
      "outputs": [
        {
          "output_type": "stream",
          "name": "stdout",
          "text": [
            "       Total Rides     %\n",
            "UberX          401  90.3\n",
            "Pool            39   8.8\n",
            "Black            4   0.9\n"
          ]
        },
        {
          "output_type": "display_data",
          "data": {
            "text/plain": [
              "<Figure size 432x288 with 1 Axes>"
            ],
            "image/png": "[encoded data removed]"
          },
          "metadata": {
            "needs_background": "light"
          }
        }
      ]
    },
    {
      "cell_type": "code",
      "source": [
        "print('Avg. fare:', round(completed_rides.fare_amount.mean(),1),'BRL')\n",
        "print('Avg. distance:',round(completed_rides.distance_km.mean(),1),'km')\n",
        "print('Avg. fare/km:',round(completed_rides.fare_amount.sum()/completed_rides.distance_km.sum(),1),'BRL/km')\n",
        "print('Avg. time spent on trips:',round(completed_rides.trip_duration.mean(),1),'minutes')\n",
        "print('')\n",
        "print('Total fare amount:', round(completed_rides.fare_amount.sum(),1),'BRL')\n",
        "print('Total distance:',round(completed_rides.distance_km.sum(),1),'km')\n",
        "print('Total time spent on trips:',round(completed_rides.trip_duration.sum()/60,1),'hours')"
      ],
      "metadata": {
        "colab": {
          "base_uri": "https://localhost:8080/"
        },
        "id": "EpjzJMdAcDuP",
        "outputId": "a61bba2c-8078-42e2-a42e-4e6590571c22"
      },
      "execution_count": null,
      "outputs": [
        {
          "output_type": "stream",
          "name": "stdout",
          "text": [
            "Avg. fare: 19.2 BRL\n",
            "Avg. distance: 8.1 km\n",
            "Avg. fare/km: 2.4 BRL/km\n",
            "Avg. time spent on trips: 21.4 minutes\n",
            "\n",
            "Total fare amount: 8532.8 BRL\n",
            "Total distance: 3575.0 km\n",
            "Total time spent on trips: 158.4 hours\n"
          ]
        }
      ]
    },
    {
      "cell_type": "code",
      "source": [
        "#overlapping pivot tables to get weighted average\n",
        "amount_table = completed_rides.pivot_table(values='fare_amount',aggfunc='sum',columns='weekday', index='year').round(1)\n",
        "column_order = ['Mon','Tue','Wed','Thu','Fri','Sat','Sun']\n",
        "amount_table = amount_table.reindex(column_order, axis=1)\n",
        "\n",
        "distance_table = completed_rides.pivot_table(values='distance_km',aggfunc='sum',columns='weekday', index='year').round(1)\n",
        "distance_table = distance_table.reindex(column_order, axis=1)\n",
        "\n",
        "(amount_table/distance_table).round(1)"
      ],
      "metadata": {
        "colab": {
          "base_uri": "https://localhost:8080/",
          "height": 269
        },
        "id": "sxPaxRmhcJtS",
        "outputId": "3776a258-5724-43af-e2cd-d360d2e8acf1"
      },
      "execution_count": null,
      "outputs": [
        {
          "output_type": "execute_result",
          "data": {
            "text/plain": [
              "weekday  Mon  Tue  Wed  Thu  Fri  Sat  Sun\n",
              "year                                      \n",
              "2016     NaN  NaN  2.8  2.4  NaN  2.1  2.9\n",
              "2017     2.8  2.1  2.4  2.2  2.7  2.1  2.7\n",
              "2018     2.0  1.9  2.6  2.0  2.2  2.4  2.2\n",
              "2019     2.5  2.4  2.1  2.3  3.1  2.3  2.7\n",
              "2020     2.7  2.4  2.7  2.6  2.4  3.1  2.8\n",
              "2021     NaN  NaN  3.1  NaN  NaN  NaN  3.6"
            ],
            "text/html": [
              "\n",
              "  <div id=\"df-ee28a4b8-16a1-400b-904b-f9ade10b0507\">\n",
              "    <div class=\"colab-df-container\">\n",
              "      <div>\n",
              "<style scoped>\n",
              "    .dataframe tbody tr th:only-of-type {\n",
              "        vertical-align: middle;\n",
              "    }\n",
              "\n",
              "    .dataframe tbody tr th {\n",
              "        vertical-align: top;\n",
              "    }\n",
              "\n",
              "    .dataframe thead th {\n",
              "        text-align: right;\n",
              "    }\n",
              "</style>\n",
              "<table border=\"1\" class=\"dataframe\">\n",
              "  <thead>\n",
              "    <tr style=\"text-align: right;\">\n",
              "      <th>weekday</th>\n",
              "      <th>Mon</th>\n",
              "      <th>Tue</th>\n",
              "      <th>Wed</th>\n",
              "      <th>Thu</th>\n",
              "      <th>Fri</th>\n",
              "      <th>Sat</th>\n",
              "      <th>Sun</th>\n",
              "    </tr>\n",
              "    <tr>\n",
              "      <th>year</th>\n",
              "      <th></th>\n",
              "      <th></th>\n",
              "      <th></th>\n",
              "      <th></th>\n",
              "      <th></th>\n",
              "      <th></th>\n",
              "      <th></th>\n",
              "    </tr>\n",
              "  </thead>\n",
              "  <tbody>\n",
              "    <tr>\n",
              "      <th>2016</th>\n",
              "      <td>NaN</td>\n",
              "      <td>NaN</td>\n",
              "      <td>2.8</td>\n",
              "      <td>2.4</td>\n",
              "      <td>NaN</td>\n",
              "      <td>2.1</td>\n",
              "      <td>2.9</td>\n",
              "    </tr>\n",
              "    <tr>\n",
              "      <th>2017</th>\n",
              "      <td>2.8</td>\n",
              "      <td>2.1</td>\n",
              "      <td>2.4</td>\n",
              "      <td>2.2</td>\n",
              "      <td>2.7</td>\n",
              "      <td>2.1</td>\n",
              "      <td>2.7</td>\n",
              "    </tr>\n",
              "    <tr>\n",
              "      <th>2018</th>\n",
              "      <td>2.0</td>\n",
              "      <td>1.9</td>\n",
              "      <td>2.6</td>\n",
              "      <td>2.0</td>\n",
              "      <td>2.2</td>\n",
              "      <td>2.4</td>\n",
              "      <td>2.2</td>\n",
              "    </tr>\n",
              "    <tr>\n",
              "      <th>2019</th>\n",
              "      <td>2.5</td>\n",
              "      <td>2.4</td>\n",
              "      <td>2.1</td>\n",
              "      <td>2.3</td>\n",
              "      <td>3.1</td>\n",
              "      <td>2.3</td>\n",
              "      <td>2.7</td>\n",
              "    </tr>\n",
              "    <tr>\n",
              "      <th>2020</th>\n",
              "      <td>2.7</td>\n",
              "      <td>2.4</td>\n",
              "      <td>2.7</td>\n",
              "      <td>2.6</td>\n",
              "      <td>2.4</td>\n",
              "      <td>3.1</td>\n",
              "      <td>2.8</td>\n",
              "    </tr>\n",
              "    <tr>\n",
              "      <th>2021</th>\n",
              "      <td>NaN</td>\n",
              "      <td>NaN</td>\n",
              "      <td>3.1</td>\n",
              "      <td>NaN</td>\n",
              "      <td>NaN</td>\n",
              "      <td>NaN</td>\n",
              "      <td>3.6</td>\n",
              "    </tr>\n",
              "  </tbody>\n",
              "</table>\n",
              "</div>\n",
              "      <button class=\"colab-df-convert\" onclick=\"convertToInteractive('df-ee28a4b8-16a1-400b-904b-f9ade10b0507')\"\n",
              "              title=\"Convert this dataframe to an interactive table.\"\n",
              "              style=\"display:none;\">\n",
              "        \n",
              "  <svg xmlns=\"http://www.w3.org/2000/svg\" height=\"24px\"viewBox=\"0 0 24 24\"\n",
              "       width=\"24px\">\n",
              "    <path d=\"M0 0h24v24H0V0z\" fill=\"none\"/>\n",
              "    <path d=\"M18.56 5.44l.94 2.06.94-2.06 2.06-.94-2.06-.94-.94-2.06-.94 2.06-2.06.94zm-11 1L8.5 8.5l.94-2.06 2.06-.94-2.06-.94L8.5 2.5l-.94 2.06-2.06.94zm10 10l.94 2.06.94-2.06 2.06-.94-2.06-.94-.94-2.06-.94 2.06-2.06.94z\"/><path d=\"M17.41 7.96l-1.37-1.37c-.4-.4-.92-.59-1.43-.59-.52 0-1.04.2-1.43.59L10.3 9.45l-7.72 7.72c-.78.78-.78 2.05 0 2.83L4 21.41c.39.39.9.59 1.41.59.51 0 1.02-.2 1.41-.59l7.78-7.78 2.81-2.81c.8-.78.8-2.07 0-2.86zM5.41 20L4 18.59l7.72-7.72 1.47 1.35L5.41 20z\"/>\n",
              "  </svg>\n",
              "      </button>\n",
              "      \n",
              "  <style>\n",
              "    .colab-df-container {\n",
              "      display:flex;\n",
              "      flex-wrap:wrap;\n",
              "      gap: 12px;\n",
              "    }\n",
              "\n",
              "    .colab-df-convert {\n",
              "      background-color: #E8F0FE;\n",
              "      border: none;\n",
              "      border-radius: 50%;\n",
              "      cursor: pointer;\n",
              "      display: none;\n",
              "      fill: #1967D2;\n",
              "      height: 32px;\n",
              "      padding: 0 0 0 0;\n",
              "      width: 32px;\n",
              "    }\n",
              "\n",
              "    .colab-df-convert:hover {\n",
              "      background-color: #E2EBFA;\n",
              "      box-shadow: 0px 1px 2px rgba(60, 64, 67, 0.3), 0px 1px 3px 1px rgba(60, 64, 67, 0.15);\n",
              "      fill: #174EA6;\n",
              "    }\n",
              "\n",
              "    [theme=dark] .colab-df-convert {\n",
              "      background-color: #3B4455;\n",
              "      fill: #D2E3FC;\n",
              "    }\n",
              "\n",
              "    [theme=dark] .colab-df-convert:hover {\n",
              "      background-color: #434B5C;\n",
              "      box-shadow: 0px 1px 3px 1px rgba(0, 0, 0, 0.15);\n",
              "      filter: drop-shadow(0px 1px 2px rgba(0, 0, 0, 0.3));\n",
              "      fill: #FFFFFF;\n",
              "    }\n",
              "  </style>\n",
              "\n",
              "      <script>\n",
              "        const buttonEl =\n",
              "          document.querySelector('#df-ee28a4b8-16a1-400b-904b-f9ade10b0507 button.colab-df-convert');\n",
              "        buttonEl.style.display =\n",
              "          google.colab.kernel.accessAllowed ? 'block' : 'none';\n",
              "\n",
              "        async function convertToInteractive(key) {\n",
              "          const element = document.querySelector('#df-ee28a4b8-16a1-400b-904b-f9ade10b0507');\n",
              "          const dataTable =\n",
              "            await google.colab.kernel.invokeFunction('convertToInteractive',\n",
              "                                                     [key], {});\n",
              "          if (!dataTable) return;\n",
              "\n",
              "          const docLinkHtml = 'Like what you see? Visit the ' +\n",
              "            '<a target=\"_blank\" href=https://colab.research.google.com/notebooks/data_table.ipynb>data table notebook</a>'\n",
              "            + ' to learn more about interactive tables.';\n",
              "          element.innerHTML = '';\n",
              "          dataTable['output_type'] = 'display_data';\n",
              "          await google.colab.output.renderOutput(dataTable, element);\n",
              "          const docLink = document.createElement('div');\n",
              "          docLink.innerHTML = docLinkHtml;\n",
              "          element.appendChild(docLink);\n",
              "        }\n",
              "      </script>\n",
              "    </div>\n",
              "  </div>\n",
              "  "
            ]
          },
          "metadata": {},
          "execution_count": 46
        }
      ]
    },
    {
      "cell_type": "code",
      "source": [
        "#creating an auxiliar data frame to be displayed in category plot \n",
        "aux_serie = round((completed_rides.groupby('weekday')['fare_amount'].sum()/completed_rides.groupby('weekday')['distance_km'].sum()),2)                                                                                                                              \n",
        "amount_km_df = pd.DataFrame(aux_serie)\n",
        "\n",
        "amount_km_df = amount_km_df.reset_index()\n",
        "amount_km_df.rename(columns={'weekday':'weekday',0:'values'},inplace=True)\n",
        "\n",
        "sns.catplot(x='weekday', y='values', data=amount_km_df, kind='bar', height=4, aspect=3, order=['Mon','Tue','Wed','Thu','Fri','Sat','Sun'],palette='magma');"
      ],
      "metadata": {
        "colab": {
          "base_uri": "https://localhost:8080/",
          "height": 297
        },
        "id": "023Q36PhcNWP",
        "outputId": "dc597d33-1286-44bc-d88d-6142f076bfd3"
      },
      "execution_count": null,
      "outputs": [
        {
          "output_type": "display_data",
          "data": {
            "text/plain": [
              "<Figure size 864x288 with 1 Axes>"
            ],
            "image/png": "[encoded data removed]"
          },
          "metadata": {
            "needs_background": "light"
          }
        }
      ]
    },
    {
      "cell_type": "code",
      "source": [
        "rides_distance = completed_rides[completed_rides.distance_km==completed_rides.distance_km.max()]\n",
        "rides_distance = rides_distance.append(completed_rides[completed_rides.distance_km==completed_rides.distance_km.min()])\n",
        "rides_distance"
      ],
      "metadata": {
        "colab": {
          "base_uri": "https://localhost:8080/",
          "height": 211
        },
        "id": "5yW4LcP6cRfN",
        "outputId": "cce320e9-e7d1-4b71-ab1f-46a7859e0ebf"
      },
      "execution_count": null,
      "outputs": [
        {
          "output_type": "execute_result",
          "data": {
            "text/plain": [
              "     city product_type     status        request_time          begin_time  \\\n",
              "3     458        UberX  COMPLETED 2020-12-11 23:16:33 2020-12-11 23:27:32   \n",
              "305   458        UberX  COMPLETED 2018-04-15 23:18:40 2018-04-15 23:27:42   \n",
              "\n",
              "     begin_lat  begin_lng        dropoff_time  dropoff_lat  dropoff_lng  \\\n",
              "3   -23.559410 -46.666435 2020-12-12 00:32:47   -23.425755   -46.481190   \n",
              "305 -23.502636 -46.624952 2018-04-15 23:34:17   -23.503310   -46.636808   \n",
              "\n",
              "     distance_miles  fare_amount  year month weekday   time  distance_km  \\\n",
              "3             19.74        58.77  2020   Dec     Fri  23:16        31.77   \n",
              "305            0.15        11.27  2018   Apr     Sun  23:18         0.24   \n",
              "\n",
              "     amount_km  request_lead_time  trip_duration  \n",
              "3         1.85               11.0           65.2  \n",
              "305      46.96                9.0            6.6  "
            ],
            "text/html": [
              "\n",
              "  <div id=\"df-8e0a7d74-e77d-4486-8c34-e644c532e93a\">\n",
              "    <div class=\"colab-df-container\">\n",
              "      <div>\n",
              "<style scoped>\n",
              "    .dataframe tbody tr th:only-of-type {\n",
              "        vertical-align: middle;\n",
              "    }\n",
              "\n",
              "    .dataframe tbody tr th {\n",
              "        vertical-align: top;\n",
              "    }\n",
              "\n",
              "    .dataframe thead th {\n",
              "        text-align: right;\n",
              "    }\n",
              "</style>\n",
              "<table border=\"1\" class=\"dataframe\">\n",
              "  <thead>\n",
              "    <tr style=\"text-align: right;\">\n",
              "      <th></th>\n",
              "      <th>city</th>\n",
              "      <th>product_type</th>\n",
              "      <th>status</th>\n",
              "      <th>request_time</th>\n",
              "      <th>begin_time</th>\n",
              "      <th>begin_lat</th>\n",
              "      <th>begin_lng</th>\n",
              "      <th>dropoff_time</th>\n",
              "      <th>dropoff_lat</th>\n",
              "      <th>dropoff_lng</th>\n",
              "      <th>distance_miles</th>\n",
              "      <th>fare_amount</th>\n",
              "      <th>year</th>\n",
              "      <th>month</th>\n",
              "      <th>weekday</th>\n",
              "      <th>time</th>\n",
              "      <th>distance_km</th>\n",
              "      <th>amount_km</th>\n",
              "      <th>request_lead_time</th>\n",
              "      <th>trip_duration</th>\n",
              "    </tr>\n",
              "  </thead>\n",
              "  <tbody>\n",
              "    <tr>\n",
              "      <th>3</th>\n",
              "      <td>458</td>\n",
              "      <td>UberX</td>\n",
              "      <td>COMPLETED</td>\n",
              "      <td>2020-12-11 23:16:33</td>\n",
              "      <td>2020-12-11 23:27:32</td>\n",
              "      <td>-23.559410</td>\n",
              "      <td>-46.666435</td>\n",
              "      <td>2020-12-12 00:32:47</td>\n",
              "      <td>-23.425755</td>\n",
              "      <td>-46.481190</td>\n",
              "      <td>19.74</td>\n",
              "      <td>58.77</td>\n",
              "      <td>2020</td>\n",
              "      <td>Dec</td>\n",
              "      <td>Fri</td>\n",
              "      <td>23:16</td>\n",
              "      <td>31.77</td>\n",
              "      <td>1.85</td>\n",
              "      <td>11.0</td>\n",
              "      <td>65.2</td>\n",
              "    </tr>\n",
              "    <tr>\n",
              "      <th>305</th>\n",
              "      <td>458</td>\n",
              "      <td>UberX</td>\n",
              "      <td>COMPLETED</td>\n",
              "      <td>2018-04-15 23:18:40</td>\n",
              "      <td>2018-04-15 23:27:42</td>\n",
              "      <td>-23.502636</td>\n",
              "      <td>-46.624952</td>\n",
              "      <td>2018-04-15 23:34:17</td>\n",
              "      <td>-23.503310</td>\n",
              "      <td>-46.636808</td>\n",
              "      <td>0.15</td>\n",
              "      <td>11.27</td>\n",
              "      <td>2018</td>\n",
              "      <td>Apr</td>\n",
              "      <td>Sun</td>\n",
              "      <td>23:18</td>\n",
              "      <td>0.24</td>\n",
              "      <td>46.96</td>\n",
              "      <td>9.0</td>\n",
              "      <td>6.6</td>\n",
              "    </tr>\n",
              "  </tbody>\n",
              "</table>\n",
              "</div>\n",
              "      <button class=\"colab-df-convert\" onclick=\"convertToInteractive('df-8e0a7d74-e77d-4486-8c34-e644c532e93a')\"\n",
              "              title=\"Convert this dataframe to an interactive table.\"\n",
              "              style=\"display:none;\">\n",
              "        \n",
              "  <svg xmlns=\"http://www.w3.org/2000/svg\" height=\"24px\"viewBox=\"0 0 24 24\"\n",
              "       width=\"24px\">\n",
              "    <path d=\"M0 0h24v24H0V0z\" fill=\"none\"/>\n",
              "    <path d=\"M18.56 5.44l.94 2.06.94-2.06 2.06-.94-2.06-.94-.94-2.06-.94 2.06-2.06.94zm-11 1L8.5 8.5l.94-2.06 2.06-.94-2.06-.94L8.5 2.5l-.94 2.06-2.06.94zm10 10l.94 2.06.94-2.06 2.06-.94-2.06-.94-.94-2.06-.94 2.06-2.06.94z\"/><path d=\"M17.41 7.96l-1.37-1.37c-.4-.4-.92-.59-1.43-.59-.52 0-1.04.2-1.43.59L10.3 9.45l-7.72 7.72c-.78.78-.78 2.05 0 2.83L4 21.41c.39.39.9.59 1.41.59.51 0 1.02-.2 1.41-.59l7.78-7.78 2.81-2.81c.8-.78.8-2.07 0-2.86zM5.41 20L4 18.59l7.72-7.72 1.47 1.35L5.41 20z\"/>\n",
              "  </svg>\n",
              "      </button>\n",
              "      \n",
              "  <style>\n",
              "    .colab-df-container {\n",
              "      display:flex;\n",
              "      flex-wrap:wrap;\n",
              "      gap: 12px;\n",
              "    }\n",
              "\n",
              "    .colab-df-convert {\n",
              "      background-color: #E8F0FE;\n",
              "      border: none;\n",
              "      border-radius: 50%;\n",
              "      cursor: pointer;\n",
              "      display: none;\n",
              "      fill: #1967D2;\n",
              "      height: 32px;\n",
              "      padding: 0 0 0 0;\n",
              "      width: 32px;\n",
              "    }\n",
              "\n",
              "    .colab-df-convert:hover {\n",
              "      background-color: #E2EBFA;\n",
              "      box-shadow: 0px 1px 2px rgba(60, 64, 67, 0.3), 0px 1px 3px 1px rgba(60, 64, 67, 0.15);\n",
              "      fill: #174EA6;\n",
              "    }\n",
              "\n",
              "    [theme=dark] .colab-df-convert {\n",
              "      background-color: #3B4455;\n",
              "      fill: #D2E3FC;\n",
              "    }\n",
              "\n",
              "    [theme=dark] .colab-df-convert:hover {\n",
              "      background-color: #434B5C;\n",
              "      box-shadow: 0px 1px 3px 1px rgba(0, 0, 0, 0.15);\n",
              "      filter: drop-shadow(0px 1px 2px rgba(0, 0, 0, 0.3));\n",
              "      fill: #FFFFFF;\n",
              "    }\n",
              "  </style>\n",
              "\n",
              "      <script>\n",
              "        const buttonEl =\n",
              "          document.querySelector('#df-8e0a7d74-e77d-4486-8c34-e644c532e93a button.colab-df-convert');\n",
              "        buttonEl.style.display =\n",
              "          google.colab.kernel.accessAllowed ? 'block' : 'none';\n",
              "\n",
              "        async function convertToInteractive(key) {\n",
              "          const element = document.querySelector('#df-8e0a7d74-e77d-4486-8c34-e644c532e93a');\n",
              "          const dataTable =\n",
              "            await google.colab.kernel.invokeFunction('convertToInteractive',\n",
              "                                                     [key], {});\n",
              "          if (!dataTable) return;\n",
              "\n",
              "          const docLinkHtml = 'Like what you see? Visit the ' +\n",
              "            '<a target=\"_blank\" href=https://colab.research.google.com/notebooks/data_table.ipynb>data table notebook</a>'\n",
              "            + ' to learn more about interactive tables.';\n",
              "          element.innerHTML = '';\n",
              "          dataTable['output_type'] = 'display_data';\n",
              "          await google.colab.output.renderOutput(dataTable, element);\n",
              "          const docLink = document.createElement('div');\n",
              "          docLink.innerHTML = docLinkHtml;\n",
              "          element.appendChild(docLink);\n",
              "        }\n",
              "      </script>\n",
              "    </div>\n",
              "  </div>\n",
              "  "
            ]
          },
          "metadata": {},
          "execution_count": 48
        }
      ]
    },
    {
      "cell_type": "code",
      "source": [
        "rides_amount_km = completed_rides[completed_rides.amount_km==completed_rides.amount_km.max()]\n",
        "rides_amount_km = rides_amount_km.append(completed_rides[completed_rides.amount_km==completed_rides.amount_km.min()])\n",
        "rides_amount_km"
      ],
      "metadata": {
        "colab": {
          "base_uri": "https://localhost:8080/",
          "height": 211
        },
        "id": "5LwyVkA4cUHm",
        "outputId": "0e7c4a38-47da-4589-911e-aa1fa0c25366"
      },
      "execution_count": null,
      "outputs": [
        {
          "output_type": "execute_result",
          "data": {
            "text/plain": [
              "     city product_type     status        request_time          begin_time  \\\n",
              "305   458        UberX  COMPLETED 2018-04-15 23:18:40 2018-04-15 23:27:42   \n",
              "87    458        UberX  COMPLETED 2019-11-30 03:34:56 2019-11-30 03:40:37   \n",
              "\n",
              "     begin_lat  begin_lng        dropoff_time  dropoff_lat  dropoff_lng  \\\n",
              "305 -23.502636 -46.624952 2018-04-15 23:34:17   -23.503310   -46.636808   \n",
              "87  -23.591813 -46.690720 2019-11-30 03:53:24   -23.559366   -46.666489   \n",
              "\n",
              "     distance_miles  fare_amount  year month weekday   time  distance_km  \\\n",
              "305            0.15        11.27  2018   Apr     Sun  23:18         0.24   \n",
              "87             3.54         0.00  2019   Nov     Sat  03:34         5.70   \n",
              "\n",
              "     amount_km  request_lead_time  trip_duration  \n",
              "305      46.96                9.0            6.6  \n",
              "87        0.00                5.7           12.8  "
            ],
            "text/html": [
              "\n",
              "  <div id=\"df-6fee2973-036d-47b4-857f-2b1991eb5e56\">\n",
              "    <div class=\"colab-df-container\">\n",
              "      <div>\n",
              "<style scoped>\n",
              "    .dataframe tbody tr th:only-of-type {\n",
              "        vertical-align: middle;\n",
              "    }\n",
              "\n",
              "    .dataframe tbody tr th {\n",
              "        vertical-align: top;\n",
              "    }\n",
              "\n",
              "    .dataframe thead th {\n",
              "        text-align: right;\n",
              "    }\n",
              "</style>\n",
              "<table border=\"1\" class=\"dataframe\">\n",
              "  <thead>\n",
              "    <tr style=\"text-align: right;\">\n",
              "      <th></th>\n",
              "      <th>city</th>\n",
              "      <th>product_type</th>\n",
              "      <th>status</th>\n",
              "      <th>request_time</th>\n",
              "      <th>begin_time</th>\n",
              "      <th>begin_lat</th>\n",
              "      <th>begin_lng</th>\n",
              "      <th>dropoff_time</th>\n",
              "      <th>dropoff_lat</th>\n",
              "      <th>dropoff_lng</th>\n",
              "      <th>distance_miles</th>\n",
              "      <th>fare_amount</th>\n",
              "      <th>year</th>\n",
              "      <th>month</th>\n",
              "      <th>weekday</th>\n",
              "      <th>time</th>\n",
              "      <th>distance_km</th>\n",
              "      <th>amount_km</th>\n",
              "      <th>request_lead_time</th>\n",
              "      <th>trip_duration</th>\n",
              "    </tr>\n",
              "  </thead>\n",
              "  <tbody>\n",
              "    <tr>\n",
              "      <th>305</th>\n",
              "      <td>458</td>\n",
              "      <td>UberX</td>\n",
              "      <td>COMPLETED</td>\n",
              "      <td>2018-04-15 23:18:40</td>\n",
              "      <td>2018-04-15 23:27:42</td>\n",
              "      <td>-23.502636</td>\n",
              "      <td>-46.624952</td>\n",
              "      <td>2018-04-15 23:34:17</td>\n",
              "      <td>-23.503310</td>\n",
              "      <td>-46.636808</td>\n",
              "      <td>0.15</td>\n",
              "      <td>11.27</td>\n",
              "      <td>2018</td>\n",
              "      <td>Apr</td>\n",
              "      <td>Sun</td>\n",
              "      <td>23:18</td>\n",
              "      <td>0.24</td>\n",
              "      <td>46.96</td>\n",
              "      <td>9.0</td>\n",
              "      <td>6.6</td>\n",
              "    </tr>\n",
              "    <tr>\n",
              "      <th>87</th>\n",
              "      <td>458</td>\n",
              "      <td>UberX</td>\n",
              "      <td>COMPLETED</td>\n",
              "      <td>2019-11-30 03:34:56</td>\n",
              "      <td>2019-11-30 03:40:37</td>\n",
              "      <td>-23.591813</td>\n",
              "      <td>-46.690720</td>\n",
              "      <td>2019-11-30 03:53:24</td>\n",
              "      <td>-23.559366</td>\n",
              "      <td>-46.666489</td>\n",
              "      <td>3.54</td>\n",
              "      <td>0.00</td>\n",
              "      <td>2019</td>\n",
              "      <td>Nov</td>\n",
              "      <td>Sat</td>\n",
              "      <td>03:34</td>\n",
              "      <td>5.70</td>\n",
              "      <td>0.00</td>\n",
              "      <td>5.7</td>\n",
              "      <td>12.8</td>\n",
              "    </tr>\n",
              "  </tbody>\n",
              "</table>\n",
              "</div>\n",
              "      <button class=\"colab-df-convert\" onclick=\"convertToInteractive('df-6fee2973-036d-47b4-857f-2b1991eb5e56')\"\n",
              "              title=\"Convert this dataframe to an interactive table.\"\n",
              "              style=\"display:none;\">\n",
              "        \n",
              "  <svg xmlns=\"http://www.w3.org/2000/svg\" height=\"24px\"viewBox=\"0 0 24 24\"\n",
              "       width=\"24px\">\n",
              "    <path d=\"M0 0h24v24H0V0z\" fill=\"none\"/>\n",
              "    <path d=\"M18.56 5.44l.94 2.06.94-2.06 2.06-.94-2.06-.94-.94-2.06-.94 2.06-2.06.94zm-11 1L8.5 8.5l.94-2.06 2.06-.94-2.06-.94L8.5 2.5l-.94 2.06-2.06.94zm10 10l.94 2.06.94-2.06 2.06-.94-2.06-.94-.94-2.06-.94 2.06-2.06.94z\"/><path d=\"M17.41 7.96l-1.37-1.37c-.4-.4-.92-.59-1.43-.59-.52 0-1.04.2-1.43.59L10.3 9.45l-7.72 7.72c-.78.78-.78 2.05 0 2.83L4 21.41c.39.39.9.59 1.41.59.51 0 1.02-.2 1.41-.59l7.78-7.78 2.81-2.81c.8-.78.8-2.07 0-2.86zM5.41 20L4 18.59l7.72-7.72 1.47 1.35L5.41 20z\"/>\n",
              "  </svg>\n",
              "      </button>\n",
              "      \n",
              "  <style>\n",
              "    .colab-df-container {\n",
              "      display:flex;\n",
              "      flex-wrap:wrap;\n",
              "      gap: 12px;\n",
              "    }\n",
              "\n",
              "    .colab-df-convert {\n",
              "      background-color: #E8F0FE;\n",
              "      border: none;\n",
              "      border-radius: 50%;\n",
              "      cursor: pointer;\n",
              "      display: none;\n",
              "      fill: #1967D2;\n",
              "      height: 32px;\n",
              "      padding: 0 0 0 0;\n",
              "      width: 32px;\n",
              "    }\n",
              "\n",
              "    .colab-df-convert:hover {\n",
              "      background-color: #E2EBFA;\n",
              "      box-shadow: 0px 1px 2px rgba(60, 64, 67, 0.3), 0px 1px 3px 1px rgba(60, 64, 67, 0.15);\n",
              "      fill: #174EA6;\n",
              "    }\n",
              "\n",
              "    [theme=dark] .colab-df-convert {\n",
              "      background-color: #3B4455;\n",
              "      fill: #D2E3FC;\n",
              "    }\n",
              "\n",
              "    [theme=dark] .colab-df-convert:hover {\n",
              "      background-color: #434B5C;\n",
              "      box-shadow: 0px 1px 3px 1px rgba(0, 0, 0, 0.15);\n",
              "      filter: drop-shadow(0px 1px 2px rgba(0, 0, 0, 0.3));\n",
              "      fill: #FFFFFF;\n",
              "    }\n",
              "  </style>\n",
              "\n",
              "      <script>\n",
              "        const buttonEl =\n",
              "          document.querySelector('#df-6fee2973-036d-47b4-857f-2b1991eb5e56 button.colab-df-convert');\n",
              "        buttonEl.style.display =\n",
              "          google.colab.kernel.accessAllowed ? 'block' : 'none';\n",
              "\n",
              "        async function convertToInteractive(key) {\n",
              "          const element = document.querySelector('#df-6fee2973-036d-47b4-857f-2b1991eb5e56');\n",
              "          const dataTable =\n",
              "            await google.colab.kernel.invokeFunction('convertToInteractive',\n",
              "                                                     [key], {});\n",
              "          if (!dataTable) return;\n",
              "\n",
              "          const docLinkHtml = 'Like what you see? Visit the ' +\n",
              "            '<a target=\"_blank\" href=https://colab.research.google.com/notebooks/data_table.ipynb>data table notebook</a>'\n",
              "            + ' to learn more about interactive tables.';\n",
              "          element.innerHTML = '';\n",
              "          dataTable['output_type'] = 'display_data';\n",
              "          await google.colab.output.renderOutput(dataTable, element);\n",
              "          const docLink = document.createElement('div');\n",
              "          docLink.innerHTML = docLinkHtml;\n",
              "          element.appendChild(docLink);\n",
              "        }\n",
              "      </script>\n",
              "    </div>\n",
              "  </div>\n",
              "  "
            ]
          },
          "metadata": {},
          "execution_count": 49
        }
      ]
    },
    {
      "cell_type": "code",
      "source": [
        "print(round(completed_rides.request_lead_time.mean(),1),'minutes')"
      ],
      "metadata": {
        "id": "KuDUUXescXD_",
        "outputId": "b6fa26fe-2225-46e8-cd81-f871fd18cf3c",
        "colab": {
          "base_uri": "https://localhost:8080/"
        }
      },
      "execution_count": null,
      "outputs": [
        {
          "output_type": "stream",
          "name": "stdout",
          "text": [
            "4.9 minutes\n"
          ]
        }
      ]
    },
    {
      "cell_type": "code",
      "source": [],
      "metadata": {
        "id": "FtwKXRgvcaP9"
      },
      "execution_count": null,
      "outputs": []
    }
  ]
}