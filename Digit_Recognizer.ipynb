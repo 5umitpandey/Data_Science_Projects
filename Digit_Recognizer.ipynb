{
  "metadata": {
    "kernelspec": {
      "language": "python",
      "display_name": "Python 3",
      "name": "python3"
    },
    "language_info": {
      "name": "python",
      "version": "3.10.12",
      "mimetype": "text/x-python",
      "codemirror_mode": {
        "name": "ipython",
        "version": 3
      },
      "pygments_lexer": "ipython3",
      "nbconvert_exporter": "python",
      "file_extension": ".py"
    },
    "kaggle": {
      "accelerator": "none",
      "dataSources": [
        {
          "sourceId": 3004,
          "databundleVersionId": 861823,
          "sourceType": "competition"
        }
      ],
      "dockerImageVersionId": 30822,
      "isInternetEnabled": true,
      "language": "python",
      "sourceType": "notebook",
      "isGpuEnabled": false
    },
    "colab": {
      "name": "Digit_Recognizer",
      "provenance": []
    }
  },
  "nbformat_minor": 0,
  "nbformat": 4,
  "cells": [
    {
      "cell_type": "markdown",
      "source": [
        "https://www.kaggle.com/competitions/digit-recognizer"
      ],
      "metadata": {
        "id": "E4s--eZj8v5u"
      }
    },
    {
      "source": [
        "# IMPORTANT: SOME KAGGLE DATA SOURCES ARE PRIVATE\n",
        "# RUN THIS CELL IN ORDER TO IMPORT YOUR KAGGLE DATA SOURCES.\n",
        "import kagglehub\n",
        "kagglehub.login()\n"
      ],
      "metadata": {
        "id": "nKV-WMkK8i9P"
      },
      "cell_type": "code",
      "outputs": [],
      "execution_count": null
    },
    {
      "source": [
        "# IMPORTANT: RUN THIS CELL IN ORDER TO IMPORT YOUR KAGGLE DATA SOURCES,\n",
        "# THEN FEEL FREE TO DELETE THIS CELL.\n",
        "# NOTE: THIS NOTEBOOK ENVIRONMENT DIFFERS FROM KAGGLE'S PYTHON\n",
        "# ENVIRONMENT SO THERE MAY BE MISSING LIBRARIES USED BY YOUR\n",
        "# NOTEBOOK.\n",
        "\n",
        "digit_recognizer_path = kagglehub.competition_download('digit-recognizer')\n",
        "\n",
        "print('Data source import complete.')\n"
      ],
      "metadata": {
        "id": "-V8K6z3Y8i9P"
      },
      "cell_type": "code",
      "outputs": [],
      "execution_count": null
    },
    {
      "cell_type": "code",
      "source": [
        "# This Python 3 environment comes with many helpful analytics libraries installed\n",
        "# It is defined by the kaggle/python Docker image: https://github.com/kaggle/docker-python\n",
        "# For example, here's several helpful packages to load\n",
        "\n",
        "import numpy as np # linear algebra\n",
        "import pandas as pd # data processing, CSV file I/O (e.g. pd.read_csv)\n",
        "import tensorflow as tf\n",
        "import matplotlib.pyplot as plt\n",
        "%matplotlib inline\n",
        "import seaborn as sns\n",
        "\n",
        "# Input data files are available in the read-only \"../input/\" directory\n",
        "# For example, running this (by clicking run or pressing Shift+Enter) will list all files under the input directory\n",
        "\n",
        "import os\n",
        "for dirname, _, filenames in os.walk('/kaggle/input'):\n",
        "    for filename in filenames:\n",
        "        print(os.path.join(dirname, filename))\n",
        "\n",
        "# You can write up to 20GB to the current directory (/kaggle/working/) that gets preserved as output when you create a version using \"Save & Run All\"\n",
        "# You can also write temporary files to /kaggle/temp/, but they won't be saved outside of the current session"
      ],
      "metadata": {
        "_uuid": "8f2839f25d086af736a60e9eeb907d3b93b6e0e5",
        "_cell_guid": "b1076dfc-b9ad-4769-8c92-a6c4dae69d19",
        "trusted": true,
        "execution": {
          "iopub.status.busy": "2024-12-23T13:50:44.202842Z",
          "iopub.execute_input": "2024-12-23T13:50:44.203184Z",
          "iopub.status.idle": "2024-12-23T13:50:48.197096Z",
          "shell.execute_reply.started": "2024-12-23T13:50:44.203158Z",
          "shell.execute_reply": "2024-12-23T13:50:48.195968Z"
        },
        "id": "H4DmS7kH8i9Q"
      },
      "outputs": [],
      "execution_count": null
    },
    {
      "cell_type": "code",
      "source": [
        "train = pd.read_csv(\"/kaggle/input/digit-recognizer/train.csv\")\n",
        "test = pd.read_csv(\"/kaggle/input/digit-recognizer/test.csv\")"
      ],
      "metadata": {
        "trusted": true,
        "execution": {
          "iopub.status.busy": "2024-12-23T12:48:53.077601Z",
          "iopub.execute_input": "2024-12-23T12:48:53.078236Z",
          "iopub.status.idle": "2024-12-23T12:48:58.122304Z",
          "shell.execute_reply.started": "2024-12-23T12:48:53.078202Z",
          "shell.execute_reply": "2024-12-23T12:48:58.121263Z"
        },
        "id": "1lVP6lZb8i9Q"
      },
      "outputs": [],
      "execution_count": null
    },
    {
      "cell_type": "code",
      "source": [
        "train_y = train['label'].astype('float32')\n",
        "train_x = train.drop(['label'], axis = 1).astype('int32')\n",
        "test_x = test.astype('float32')\n",
        "train_x.shape, train_y.shape, test_x.shape"
      ],
      "metadata": {
        "trusted": true,
        "execution": {
          "iopub.status.busy": "2024-12-23T12:49:27.875518Z",
          "iopub.execute_input": "2024-12-23T12:49:27.875826Z",
          "iopub.status.idle": "2024-12-23T12:49:28.117822Z",
          "shell.execute_reply.started": "2024-12-23T12:49:27.875802Z",
          "shell.execute_reply": "2024-12-23T12:49:28.116714Z"
        },
        "id": "MdTcIQi58i9Q"
      },
      "outputs": [],
      "execution_count": null
    },
    {
      "cell_type": "code",
      "source": [
        "train_x = train_x.values.reshape(-1, 28, 28, 1)\n",
        "test_x = test_x.values.reshape(-1, 28, 28, 1)\n",
        "\n",
        "train_x = train_x / 255.0\n",
        "test_x = test_x / 255.0\n",
        "\n",
        "train_x.shape, test_x.shape"
      ],
      "metadata": {
        "trusted": true,
        "execution": {
          "iopub.status.busy": "2024-12-23T12:49:32.71488Z",
          "iopub.execute_input": "2024-12-23T12:49:32.715299Z",
          "iopub.status.idle": "2024-12-23T12:49:32.850315Z",
          "shell.execute_reply.started": "2024-12-23T12:49:32.71527Z",
          "shell.execute_reply": "2024-12-23T12:49:32.849278Z"
        },
        "id": "3yIEl5MZ8i9R"
      },
      "outputs": [],
      "execution_count": null
    },
    {
      "cell_type": "code",
      "source": [
        "#One Hot Encoding\n",
        "train_y = tf.keras.utils.to_categorical(train_y, 10)\n",
        "train_y.shape"
      ],
      "metadata": {
        "trusted": true,
        "execution": {
          "iopub.status.busy": "2024-12-23T12:49:34.428554Z",
          "iopub.execute_input": "2024-12-23T12:49:34.428928Z",
          "iopub.status.idle": "2024-12-23T12:49:34.47134Z",
          "shell.execute_reply.started": "2024-12-23T12:49:34.428895Z",
          "shell.execute_reply": "2024-12-23T12:49:34.470425Z"
        },
        "id": "Mz53IziT8i9R"
      },
      "outputs": [],
      "execution_count": null
    },
    {
      "cell_type": "code",
      "source": [
        "print(train['label'].head())"
      ],
      "metadata": {
        "trusted": true,
        "execution": {
          "iopub.status.busy": "2024-12-23T12:49:38.965908Z",
          "iopub.execute_input": "2024-12-23T12:49:38.966273Z",
          "iopub.status.idle": "2024-12-23T12:49:38.972679Z",
          "shell.execute_reply.started": "2024-12-23T12:49:38.966245Z",
          "shell.execute_reply": "2024-12-23T12:49:38.971192Z"
        },
        "id": "bKrmMOaa8i9R"
      },
      "outputs": [],
      "execution_count": null
    },
    {
      "cell_type": "code",
      "source": [
        "#One hot encoding of same labels\n",
        "print(train_y[0:5,:])"
      ],
      "metadata": {
        "trusted": true,
        "execution": {
          "iopub.status.busy": "2024-12-23T12:49:45.075841Z",
          "iopub.execute_input": "2024-12-23T12:49:45.076216Z",
          "iopub.status.idle": "2024-12-23T12:49:45.081869Z",
          "shell.execute_reply.started": "2024-12-23T12:49:45.076188Z",
          "shell.execute_reply": "2024-12-23T12:49:45.080687Z"
        },
        "id": "A6E-KTt_8i9R"
      },
      "outputs": [],
      "execution_count": null
    },
    {
      "cell_type": "code",
      "source": [
        "#Defining the model\n",
        "model = tf.keras.models.Sequential([\n",
        "  tf.keras.layers.Conv2D(32,(3,3),activation = 'relu', input_shape=(28,28,1)),\n",
        "  tf.keras.layers.Conv2D(32,(3,3),activation = 'relu'),\n",
        "  tf.keras.layers.MaxPooling2D(2,2),\n",
        "  tf.keras.layers.Conv2D(64,(3,3),activation = 'relu',padding = 'Same'),\n",
        "  tf.keras.layers.Conv2D(64,(3,3),activation = 'relu',padding = 'Same'),\n",
        "  tf.keras.layers.MaxPooling2D(pool_size = (2,2), strides = (2,2)),\n",
        "  tf.keras.layers.Dropout(0.25),\n",
        "  tf.keras.layers.Conv2D(64,(3,3),activation = 'relu',padding = 'Same'),\n",
        "  tf.keras.layers.Conv2D(64,(3,3),activation = 'relu',padding = 'Same'),\n",
        "  tf.keras.layers.MaxPooling2D(pool_size = (2,2), strides = (2,2)),\n",
        "  tf.keras.layers.Dropout(0.25),\n",
        "  tf.keras.layers.Flatten(),\n",
        "  tf.keras.layers.Dense(256, activation='relu'),\n",
        "  #tf.keras.layers.Dropout(0.50),\n",
        "  tf.keras.layers.Dense(256, activation='relu'),\n",
        "  tf.keras.layers.Dropout(0.50),\n",
        "  tf.keras.layers.Dense(10, activation='softmax')\n",
        "])\n",
        "model.summary()"
      ],
      "metadata": {
        "trusted": true,
        "execution": {
          "iopub.status.busy": "2024-12-23T12:50:11.586625Z",
          "iopub.execute_input": "2024-12-23T12:50:11.587084Z",
          "iopub.status.idle": "2024-12-23T12:50:11.768465Z",
          "shell.execute_reply.started": "2024-12-23T12:50:11.587048Z",
          "shell.execute_reply": "2024-12-23T12:50:11.767542Z"
        },
        "id": "qeo5iNQS8i9S"
      },
      "outputs": [],
      "execution_count": null
    },
    {
      "cell_type": "code",
      "source": [
        "#Defining the callback function to stop our training once the acceptable accuracy is reached\n",
        "\n",
        "class myCallback(tf.keras.callbacks.Callback):\n",
        "        def on_epoch_end(self, epoch, logs={}):\n",
        "            if(logs.get('accuracy') > 0.999):\n",
        "                print(\"\\nReached 99.9% accuracy so cancelling training!\")\n",
        "                self.model.stop_training = True\n",
        "\n",
        "callbacks = myCallback()"
      ],
      "metadata": {
        "trusted": true,
        "execution": {
          "iopub.status.busy": "2024-12-23T12:50:17.795424Z",
          "iopub.execute_input": "2024-12-23T12:50:17.795783Z",
          "iopub.status.idle": "2024-12-23T12:50:17.80106Z",
          "shell.execute_reply.started": "2024-12-23T12:50:17.79575Z",
          "shell.execute_reply": "2024-12-23T12:50:17.799862Z"
        },
        "id": "JXdAwFYL8i9S"
      },
      "outputs": [],
      "execution_count": null
    },
    {
      "cell_type": "code",
      "source": [
        "#Compiling and model training with batch size = 50, epochs = 20, and optimizer = adam\n",
        "Optimizer = tf.keras.optimizers.Adam(\n",
        "            learning_rate=0.0005,\n",
        "            beta_1=0.9,\n",
        "            beta_2=0.999,\n",
        "            epsilon=1e-07,\n",
        "            name='Adam'\n",
        ")\n",
        "model.compile(optimizer=Optimizer, loss='categorical_crossentropy', metrics=['accuracy'])\n",
        "model.fit(train_x, train_y, batch_size = 50, epochs = 20, callbacks=[callbacks])"
      ],
      "metadata": {
        "trusted": true,
        "execution": {
          "iopub.status.busy": "2024-12-23T12:50:21.704626Z",
          "iopub.execute_input": "2024-12-23T12:50:21.704949Z",
          "iopub.status.idle": "2024-12-23T13:13:16.161074Z",
          "shell.execute_reply.started": "2024-12-23T12:50:21.704925Z",
          "shell.execute_reply": "2024-12-23T13:13:16.159821Z"
        },
        "collapsed": true,
        "jupyter": {
          "outputs_hidden": true
        },
        "id": "UG5sv4uB8i9S"
      },
      "outputs": [],
      "execution_count": null
    },
    {
      "cell_type": "code",
      "source": [
        "results = model.predict(test_x)\n",
        "\n",
        "# select the index with the maximum probability\n",
        "results = np.argmax(results,axis = 1)\n",
        "\n",
        "results = pd.Series(results,name=\"Label\")"
      ],
      "metadata": {
        "trusted": true,
        "execution": {
          "iopub.status.busy": "2024-12-23T13:14:43.26136Z",
          "iopub.execute_input": "2024-12-23T13:14:43.261725Z",
          "iopub.status.idle": "2024-12-23T13:15:00.017916Z",
          "shell.execute_reply.started": "2024-12-23T13:14:43.261699Z",
          "shell.execute_reply": "2024-12-23T13:15:00.016652Z"
        },
        "id": "4s1AnEWM8i9S"
      },
      "outputs": [],
      "execution_count": null
    },
    {
      "cell_type": "code",
      "source": [
        "submission = pd.concat([pd.Series(range(1,28001),name = \"ImageId\"),results],axis = 1)\n",
        "\n",
        "submission.to_csv(\"submission.csv\",index=False)"
      ],
      "metadata": {
        "trusted": true,
        "execution": {
          "iopub.status.busy": "2024-12-23T13:15:49.376385Z",
          "iopub.execute_input": "2024-12-23T13:15:49.37676Z",
          "iopub.status.idle": "2024-12-23T13:15:49.417194Z",
          "shell.execute_reply.started": "2024-12-23T13:15:49.376733Z",
          "shell.execute_reply": "2024-12-23T13:15:49.41595Z"
        },
        "id": "baH-GuVQ8i9S"
      },
      "outputs": [],
      "execution_count": null
    },
    {
      "cell_type": "code",
      "source": [
        "pip install kaggle"
      ],
      "metadata": {
        "trusted": true,
        "id": "ZEMY6O_L8i9T"
      },
      "outputs": [],
      "execution_count": null
    },
    {
      "cell_type": "code",
      "source": [
        "from google.colab import files\n",
        "files.upload()"
      ],
      "metadata": {
        "trusted": true,
        "execution": {
          "iopub.status.busy": "2024-12-23T13:53:57.968816Z",
          "iopub.execute_input": "2024-12-23T13:53:57.969225Z"
        },
        "id": "2YQcIuUo8i9T"
      },
      "outputs": [],
      "execution_count": null
    },
    {
      "cell_type": "code",
      "source": [
        "import json\n",
        "import zipfile\n",
        "import os\n",
        "\n",
        "# Move kaggle.json to ~/.kaggle/\n",
        "!mkdir -p ~/.kaggle\n",
        "!cp kaggle.json ~/.kaggle/\n",
        "!chmod 600 ~/.kaggle/kaggle.json"
      ],
      "metadata": {
        "trusted": true,
        "execution": {
          "iopub.status.busy": "2024-12-27T15:00:02.465338Z",
          "iopub.execute_input": "2024-12-27T15:00:02.46576Z",
          "iopub.status.idle": "2024-12-27T15:00:02.83049Z",
          "shell.execute_reply.started": "2024-12-27T15:00:02.465709Z",
          "shell.execute_reply": "2024-12-27T15:00:02.829234Z"
        },
        "id": "i3dMtbpS8i9T"
      },
      "outputs": [],
      "execution_count": null
    },
    {
      "cell_type": "code",
      "source": [
        "!kaggle competitions submit -c digit-recognizer -f submission.csv -m \"Message\""
      ],
      "metadata": {
        "trusted": true,
        "execution": {
          "iopub.status.busy": "2024-12-23T13:38:25.519005Z",
          "iopub.status.idle": "2024-12-23T13:38:25.519376Z",
          "shell.execute_reply": "2024-12-23T13:38:25.519235Z"
        },
        "id": "7NlVLCjU8i9T"
      },
      "outputs": [],
      "execution_count": null
    },
    {
      "cell_type": "code",
      "source": [],
      "metadata": {
        "trusted": true,
        "id": "cbAytT3u8i9T"
      },
      "outputs": [],
      "execution_count": null
    }
  ]
}